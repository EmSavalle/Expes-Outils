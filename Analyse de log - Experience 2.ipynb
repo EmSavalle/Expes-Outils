{
 "cells": [
  {
   "cell_type": "markdown",
   "metadata": {},
   "source": [
    "Format log file\n",
    "\n",
    "Cible : Gauche / Droite\n",
    "\n",
    "Main : Gauche / Droite\n",
    "\n",
    "### Trajectoire\n",
    "Trajectoire : Int\n",
    "\n",
    "Valence : Positif/Negatif\n",
    "\n",
    "Longeur : Int\n",
    "\n",
    "PreparationTraj Pourcent BonneCible : 70/90 0/1 (!= Valence / = Valence)\n",
    "\n",
    "### Son\n",
    "Son\n",
    "\n",
    "Numero : Int\n",
    "\n",
    "Mouvement : String (Sauf premier mouvement)\n",
    "\n",
    "Position : String \"x_y\"\n",
    "\n",
    "Reponse : Int (1->7)\n",
    "\n",
    "ReactionTime : Int\n",
    "\n",
    "### Fin\n",
    "Anxiete : Int"
   ]
  },
  {
   "cell_type": "markdown",
   "metadata": {},
   "source": [
    "Analyse:\n",
    " - Evolution de la réponse lors d'une trajectoire (+ / -)\n",
    " - Evolution de l'anxiété au fil des trajectoires\n",
    " - Comparaison anxiété en fonction de l'incertitude\n",
    "     - 70 / 90\n",
    "     - Court long\n",
    " - Evolution de la reponse en fonction du mouvement"
   ]
  }
 ],
 "metadata": {
  "kernelspec": {
   "display_name": "Python 3",
   "language": "python",
   "name": "python3"
  },
  "language_info": {
   "codemirror_mode": {
    "name": "ipython",
    "version": 3
   },
   "file_extension": ".py",
   "mimetype": "text/x-python",
   "name": "python",
   "nbconvert_exporter": "python",
   "pygments_lexer": "ipython3",
   "version": "3.7.6"
  }
 },
 "nbformat": 4,
 "nbformat_minor": 4
}
