{
 "cells": [
  {
   "cell_type": "markdown",
   "metadata": {},
   "source": [
    "IMPORTANT : Définition des positions !\n",
    "(x,y)\n",
    "\n",
    "x : Positif -> Devant / Négatif -> Derrière\n",
    "\n",
    "y : Positif -> Gauche / Négatif -> Droite "
   ]
  },
  {
   "cell_type": "code",
   "execution_count": 1,
   "metadata": {},
   "outputs": [],
   "source": [
    "import math,random"
   ]
  },
  {
   "cell_type": "code",
   "execution_count": 2,
   "metadata": {},
   "outputs": [],
   "source": [
    "def webfrac(x=1,nb=5, k = 0.9):\n",
    "    \"\"\"\n",
    "    Trouve une valeur Z tel que la weberFraction(x,y)=weberFraction(y,z)\n",
    "    Valeur de référence : a distance de 15, il faut au moins une seconde distance de 18 pour differencier\n",
    "    \"\"\"\n",
    "    \n",
    "    \n",
    "    res = [x]\n",
    "    for i in range(nb-1):\n",
    "        res.append(round(res[-1]*k+res[-1]))\n",
    "    return res"
   ]
  },
  {
   "cell_type": "code",
   "execution_count": 3,
   "metadata": {
    "scrolled": true
   },
   "outputs": [
    {
     "data": {
      "text/plain": [
       "[5, 8, 14, 24, 41]"
      ]
     },
     "execution_count": 3,
     "metadata": {},
     "output_type": "execute_result"
    }
   ],
   "source": [
    "dists = webfrac(5,5,k=0.7)\n",
    "dists"
   ]
  },
  {
   "cell_type": "code",
   "execution_count": 4,
   "metadata": {},
   "outputs": [],
   "source": [
    "def convertDistanceAngleEnPosition(angle,distance, ecartDistance = 5, logs = False, dist = []):\n",
    "    if(logs):\n",
    "        r = dist[distance]\n",
    "    else:\n",
    "        r = distance*ecartDistance\n",
    "    #Shift pour lisibilité : Pour la simulation 0° est devant 90° est a gauche\n",
    "    angle = angle-90\n",
    "    posX = r*math.cos(math.radians(angle))\n",
    "    posY = r*math.sin(math.radians(angle))\n",
    "    return (round(posX),round(posY))\n"
   ]
  },
  {
   "cell_type": "code",
   "execution_count": 5,
   "metadata": {},
   "outputs": [],
   "source": [
    "def convertPositionEnAngleDistance(x,y):\n",
    "    d = math.sqrt(x**2+y**2)\n",
    "    segO = [(0,0),(50,0)]\n",
    "    Xa,Ya = segO[1]\n",
    "    seg1 = [(0,0),(x,y)]\n",
    "    Xb,Yb = seg1[1]\n",
    "    cosA = (Xa*Xb+Ya*Yb) / math.sqrt((Xa**2+Ya**2)*(Xb**2+Yb**2))\n",
    "    a=math.degrees(math.acos(cosA))\n",
    "    d = x/math.cos(math.radians(a))\n",
    "    d2 = y/math.sin(math.radians(a))\n",
    "    return round(a),round(d),round(d2)"
   ]
  },
  {
   "cell_type": "code",
   "execution_count": 6,
   "metadata": {},
   "outputs": [
    {
     "data": {
      "text/plain": [
       "(61, 41, 41)"
      ]
     },
     "execution_count": 6,
     "metadata": {},
     "output_type": "execute_result"
    }
   ],
   "source": [
    "convertPositionEnAngleDistance(20,36)"
   ]
  },
  {
   "cell_type": "code",
   "execution_count": 7,
   "metadata": {},
   "outputs": [],
   "source": [
    "def calculPositionDisponibles(nombreAngle = 7,nombreDistance=4, espaceDistance = 5, logs = False, dist = dists):\n",
    "    \"\"\"Détermine l'ensemble des positions disponibles en fonctions du nombre d'angles et de cercles de positionnement accessible\"\"\"\n",
    "    position = []\n",
    "    deltaAngle = 180 / (nombreAngle - 1)\n",
    "    if(logs):\n",
    "        for d in range(0,len(dist)):\n",
    "            for a in range(0, nombreAngle):\n",
    "                angle = a * deltaAngle\n",
    "                x,y = convertDistanceAngleEnPosition(angle,d,logs=logs,dist=dist)\n",
    "                position.append((round(x),round(y)))\n",
    "    else:\n",
    "        for d in range(1,nombreDistance+1):\n",
    "            for a in range(0, nombreAngle):\n",
    "                angle = a * deltaAngle\n",
    "                x,y = convertDistanceAngleEnPosition(angle,d)\n",
    "                position.append((round(x),round(y)))\n",
    "    return position"
   ]
  },
  {
   "cell_type": "code",
   "execution_count": 8,
   "metadata": {
    "scrolled": true
   },
   "outputs": [
    {
     "name": "stdout",
     "output_type": "stream",
     "text": [
      "pathSave.push_back({ 0,-5 });\n",
      "pathSave.push_back({ 3,-4 });\n",
      "pathSave.push_back({ 4,-2 });\n",
      "pathSave.push_back({ 5,0 });\n",
      "pathSave.push_back({ 4,2 });\n",
      "pathSave.push_back({ 3,4 });\n",
      "pathSave.push_back({ 0,5 });\n",
      "pathSave.push_back({ 0,-8 });\n",
      "pathSave.push_back({ 4,-7 });\n",
      "pathSave.push_back({ 7,-4 });\n",
      "pathSave.push_back({ 8,0 });\n",
      "pathSave.push_back({ 7,4 });\n",
      "pathSave.push_back({ 4,7 });\n",
      "pathSave.push_back({ 0,8 });\n",
      "pathSave.push_back({ 0,-14 });\n",
      "pathSave.push_back({ 7,-12 });\n",
      "pathSave.push_back({ 12,-7 });\n",
      "pathSave.push_back({ 14,0 });\n",
      "pathSave.push_back({ 12,7 });\n",
      "pathSave.push_back({ 7,12 });\n",
      "pathSave.push_back({ 0,14 });\n",
      "pathSave.push_back({ 0,-24 });\n",
      "pathSave.push_back({ 12,-21 });\n",
      "pathSave.push_back({ 21,-12 });\n",
      "pathSave.push_back({ 24,0 });\n",
      "pathSave.push_back({ 21,12 });\n",
      "pathSave.push_back({ 12,21 });\n",
      "pathSave.push_back({ 0,24 });\n",
      "pathSave.push_back({ 0,-41 });\n",
      "pathSave.push_back({ 21,-36 });\n",
      "pathSave.push_back({ 36,-20 });\n",
      "pathSave.push_back({ 41,0 });\n",
      "pathSave.push_back({ 36,20 });\n",
      "pathSave.push_back({ 21,36 });\n",
      "pathSave.push_back({ 0,41 });\n",
      "\n"
     ]
    }
   ],
   "source": [
    "#Decrit les lignes de code a mettre dans le code c++ pour enregister les positions de sons de moustiques\n",
    "a= calculPositionDisponibles(logs=True,dist=dists)\n",
    "s=\"\"\n",
    "for i,j in a:\n",
    "    s += \"pathSave.push_back({ \"+str(i)+\",\"+str(j)+\" });\"+\"\\n\"\n",
    "print(s)"
   ]
  },
  {
   "cell_type": "code",
   "execution_count": 9,
   "metadata": {},
   "outputs": [],
   "source": [
    "def calculMouvements(nombreAngle = 7, nombreDistance = 4, espaceDistance = 5, logs = False, dist = dists,verbose= True):\n",
    "    \"\"\"\n",
    "    a : approche\n",
    "    e : eloignement\n",
    "    g : mvm gauche\n",
    "    d : mvm droite\n",
    "    ag,ad,eg,ed\n",
    "    \"\"\"\n",
    "    pos = calculPositionDisponibles(nombreAngle = 7, nombreDistance = 4, espaceDistance = 5, logs = logs, dist = dist)\n",
    "    angle = round(180 / (nombreAngle-1))\n",
    "    depl = dict()\n",
    "    cptA = 0\n",
    "    cptE = 0\n",
    "    cptG = 0\n",
    "    cptD = 0\n",
    "    cptAG = 0\n",
    "    cptAD = 0\n",
    "    cptEG = 0\n",
    "    cptED = 0\n",
    "    #Uniquement jump d'une case et pas de deux\n",
    "    cpt =0\n",
    "    if(logs):\n",
    "        for an in range(nombreAngle):\n",
    "            for d in range(0,len(dist)):\n",
    "                a = an*angle\n",
    "                pos = convertDistanceAngleEnPosition(a,d,logs=True,dist=dist)\n",
    "                if(verbose):\n",
    "                    print(\"Position intiales :\"+str(pos))\n",
    "                    cpt+=1\n",
    "                depl[pos] = dict()\n",
    "                if(d != 0):\n",
    "                    depl[pos][\"a\"] = convertDistanceAngleEnPosition(a,d-1,logs=True,dist=dist)\n",
    "                    cptA+=1\n",
    "                    if(a-angle >= 0):\n",
    "                        depl[pos][\"ad\"] = convertDistanceAngleEnPosition(a-angle,d-1,logs=True,dist=dist)\n",
    "                        cptAG+=1\n",
    "                    if(a +angle <= 180):\n",
    "                        depl[pos][\"ag\"] = convertDistanceAngleEnPosition(a+angle,d-1,logs=True,dist=dist)\n",
    "                        cptAD+=1\n",
    "\n",
    "                if(d >= 2):\n",
    "                    depl[pos][\"aa\"] = convertDistanceAngleEnPosition(a,d-2,logs=True,dist=dist)\n",
    "                    cptA+=1\n",
    "                    if(a >= angle*2):\n",
    "                        depl[pos][\"aadd\"] = convertDistanceAngleEnPosition(a-(angle*2),d-2,logs=True,dist=dist)\n",
    "                        cptAG+=1\n",
    "                    if(a +(angle*2) <= 180):\n",
    "                        depl[pos][\"aagg\"] = convertDistanceAngleEnPosition(a+(angle*2),d-2,logs=True,dist=dist)\n",
    "                        cptAD+=1\n",
    "\n",
    "                if(d < len(dist)-1):\n",
    "                    depl[pos][\"e\"] = convertDistanceAngleEnPosition(a,d+1,logs=True,dist=dist)\n",
    "                    cptE+=1\n",
    "                    if(a - angle >= 0):\n",
    "                        depl[pos][\"ed\"] = convertDistanceAngleEnPosition(a-angle,d+1,logs=True,dist=dist)\n",
    "                        cptEG+=1\n",
    "                    if(a + angle <= 180):\n",
    "                        depl[pos][\"eg\"] = convertDistanceAngleEnPosition(a+angle,d+1,logs=True,dist=dist)\n",
    "                        cptED+=1\n",
    "                if(d < len(dist)-2):\n",
    "                    depl[pos][\"ee\"] = convertDistanceAngleEnPosition(a,d+2,logs=True,dist=dist)\n",
    "                    cptE+=1\n",
    "                    if(a >= (angle*2)):\n",
    "                        depl[pos][\"eedd\"] = convertDistanceAngleEnPosition(a-(angle*2),d+2,logs=True,dist=dist)\n",
    "                        cptEG+=1\n",
    "                    if(a+(angle*2) <= 180):\n",
    "                        depl[pos][\"eegg\"] = convertDistanceAngleEnPosition(a+(angle*2),d+2,logs=True,dist=dist)\n",
    "                        cptED+=1\n",
    "                if(a != 0):\n",
    "                    depl[pos][\"d\"] = convertDistanceAngleEnPosition(a-angle,d,logs=True,dist=dist)\n",
    "                    cptG+=1\n",
    "                if(a >=(angle*2)):\n",
    "                    depl[pos][\"dd\"] = convertDistanceAngleEnPosition(a-(angle*2),d,logs=True,dist=dist)\n",
    "                    cptG+=1\n",
    "\n",
    "                if(a +angle <= 180):\n",
    "                    depl[pos][\"g\"] = convertDistanceAngleEnPosition(a+angle,d,logs=True,dist=dist)\n",
    "                    cptG+=1\n",
    "                if(a +angle*2 <= 180):\n",
    "                    depl[pos][\"gg\"] = convertDistanceAngleEnPosition(a+(angle*2),d,logs=True,dist=dist)\n",
    "                    cptD+=1\n",
    "    else:\n",
    "        for an in range(nombreAngle):\n",
    "            for d in range(1,nombreDistance+1):\n",
    "                a = an*angle\n",
    "                pos = convertDistanceAngleEnPosition(a,d)\n",
    "                if(verbose):\n",
    "                    print(\"Position intiales :\"+str(pos))\n",
    "                    cpt+=1\n",
    "                depl[pos] = dict()\n",
    "                if(d != 1):\n",
    "                    depl[pos][\"a\"] = convertDistanceAngleEnPosition(a,d-1)\n",
    "                    cptA+=1\n",
    "                    if(a-angle >= 0):\n",
    "                        depl[pos][\"ad\"] = convertDistanceAngleEnPosition(a-angle,d-1)\n",
    "                        cptAG+=1\n",
    "                    if(a +angle <= 180):\n",
    "                        depl[pos][\"ag\"] = convertDistanceAngleEnPosition(a+angle,d-1)\n",
    "                        cptAD+=1\n",
    "\n",
    "                if(d >= 2):\n",
    "                    depl[pos][\"aa\"] = convertDistanceAngleEnPosition(a,d-2)\n",
    "                    cptA+=1\n",
    "                    if(a >= angle*2):\n",
    "                        depl[pos][\"aadd\"] = convertDistanceAngleEnPosition(a-(angle*2),d-2)\n",
    "                        cptAG+=1\n",
    "                    if(a +(angle*2) <= 180):\n",
    "                        depl[pos][\"aagg\"] = convertDistanceAngleEnPosition(a+(angle*2),d-2)\n",
    "                        cptAD+=1\n",
    "\n",
    "                if(d != nombreDistance):\n",
    "                    depl[pos][\"e\"] = convertDistanceAngleEnPosition(a,d+1)\n",
    "                    cptE+=1\n",
    "                    if(a - angle >= 0):\n",
    "                        depl[pos][\"ed\"] = convertDistanceAngleEnPosition(a-angle,d+1)\n",
    "                        cptEG+=1\n",
    "                    if(a + angle <= 180):\n",
    "                        depl[pos][\"eg\"] = convertDistanceAngleEnPosition(a+angle,d+1)\n",
    "                        cptED+=1\n",
    "                if(d <= nombreDistance-1):\n",
    "                    depl[pos][\"ee\"] = convertDistanceAngleEnPosition(a,d+2)\n",
    "                    cptE+=1\n",
    "                    if(a >= (angle*2)):\n",
    "                        depl[pos][\"eedd\"] = convertDistanceAngleEnPosition(a-(angle*2),d+2)\n",
    "                        cptEG+=1\n",
    "                    if(a+(angle*2) <= 180):\n",
    "                        depl[pos][\"eegg\"] = convertDistanceAngleEnPosition(a+(angle*2),d+2)\n",
    "                        cptED+=1\n",
    "                if(a != 0):\n",
    "                    depl[pos][\"d\"] = convertDistanceAngleEnPosition(a-angle,d)\n",
    "                    cptG+=1\n",
    "                if(a >=(angle*2)):\n",
    "                    depl[pos][\"dd\"] = convertDistanceAngleEnPosition(a-(angle*2),d)\n",
    "                    cptG+=1\n",
    "\n",
    "                if(a +angle <= 180):\n",
    "                    depl[pos][\"g\"] = convertDistanceAngleEnPosition(a+angle,d)\n",
    "                    cptG+=1\n",
    "                if(a +angle*2 <= 180):\n",
    "                    depl[pos][\"gg\"] = convertDistanceAngleEnPosition(a+(angle*2),d)\n",
    "                    cptD+=1\n",
    "    if(verbose): \n",
    "        print(\"Nombre de pos initiales étudiées \"+str(cpt))\n",
    "        print(\"Nombre de positions initiales : \"+str(len(depl.keys())))\n",
    "        print(depl)\n",
    "        print(\"A\"+str(cptA))\n",
    "        print(\"AG\"+str(cptAG))\n",
    "        print(\"AD\"+str(cptAD))\n",
    "        print(\"E\"+str(cptE))\n",
    "        print(\"EG\"+str(cptEG))\n",
    "        print(\"ED\"+str(cptED))\n",
    "        print(\"G\"+str(cptG))\n",
    "        print(\"D\"+str(cptD))\n",
    "        print(\"Nombre mouvement sans diagonales\")\n",
    "        print(cptA+cptE+cptG+cptD)\n",
    "        print(\"Nombre mouvement avec diagonales\")\n",
    "        print(cptA+cptAG+cptAD+cptE+cptEG+cptED+cptG+cptD)\n",
    "    return depl"
   ]
  },
  {
   "cell_type": "code",
   "execution_count": 10,
   "metadata": {},
   "outputs": [
    {
     "name": "stdout",
     "output_type": "stream",
     "text": [
      "364\n"
     ]
    }
   ],
   "source": [
    "l = calculMouvements(logs=True,verbose =False)\n",
    "cpt = 0\n",
    "for i in l.keys():\n",
    "    for j in l[i].keys():\n",
    "        cpt+=1\n",
    "        #print(str(i[0])+\",\"+str(i[0]))\n",
    "        #print(str(l[i][j][0])+\",\"+str(l[i][j][1]))\n",
    "print(cpt)"
   ]
  },
  {
   "cell_type": "code",
   "execution_count": 11,
   "metadata": {},
   "outputs": [],
   "source": [
    "def creationListesMouvements(diagonales = False,doubleSaut = False,nombreAngle = 7, nombreDistance = 4, verbose = True,logs= False, dist = []):\n",
    "    mvm = calculMouvements(nombreAngle = nombreAngle, nombreDistance = nombreDistance, verbose=verbose, logs=logs,dist = dist)\n",
    "    a = []\n",
    "    ag = []\n",
    "    ad = []\n",
    "    e = []\n",
    "    eg = []\n",
    "    ed = []\n",
    "    g = []\n",
    "    d = []\n",
    "    listeMouvements = []\n",
    "    if(verbose):\n",
    "        print(\"Nombre de positions initiales\")\n",
    "        print(len(mvm.keys()))\n",
    "    for i in mvm.keys():\n",
    "        if(\"a\" in list(mvm[i].keys())):\n",
    "            a.append((i,mvm[i][\"a\"],\"a\"))\n",
    "            if(doubleSaut and \"aa\" in list(mvm[i].keys())):\n",
    "                a.append((i,mvm[i][\"a\"],\"a\"))\n",
    "        if(\"ag\" in list(mvm[i].keys())):\n",
    "            ag.append((i,mvm[i][\"ag\"],\"ag\"))\n",
    "            if(doubleSaut and \"aagg\" in list(mvm[i].keys())):\n",
    "                ag.append((i,mvm[i][\"ag\"],\"ag\"))\n",
    "        if(\"ad\" in list(mvm[i].keys())):\n",
    "            ad.append((i,mvm[i][\"ad\"],\"ad\"))\n",
    "            if(doubleSaut and \"aadd\" in list(mvm[i].keys())):\n",
    "                ad.append((i,mvm[i][\"ad\"],\"ad\"))\n",
    "        if(\"e\" in list(mvm[i].keys())):\n",
    "            e.append((i,mvm[i][\"e\"],\"e\"))\n",
    "            if(doubleSaut and \"ee\" in list(mvm[i].keys())):\n",
    "                e.append((i,mvm[i][\"e\"],\"e\"))\n",
    "        if(\"eg\" in list(mvm[i].keys())):\n",
    "            eg.append((i,mvm[i][\"eg\"],\"eg\"))\n",
    "            if(doubleSaut and \"eegg\" in list(mvm[i].keys())):\n",
    "                eg.append((i,mvm[i][\"eg\"],\"eg\"))\n",
    "        if(\"ed\" in list(mvm[i].keys())):\n",
    "            ed.append((i,mvm[i][\"ed\"],\"ed\"))\n",
    "            if(doubleSaut and \"eedd\" in list(mvm[i].keys())):\n",
    "                ed.append((i,mvm[i][\"ed\"],\"ed\"))\n",
    "        if(\"g\" in list(mvm[i].keys())):\n",
    "            g.append((i,mvm[i][\"g\"],\"g\"))\n",
    "            if(doubleSaut and \"gg\" in list(mvm[i].keys())):\n",
    "                g.append((i,mvm[i][\"g\"],\"g\"))\n",
    "        if(\"d\" in list(mvm[i].keys())):\n",
    "            d.append((i,mvm[i][\"d\"],\"d\"))\n",
    "            if(doubleSaut and \"dd\" in list(mvm[i].keys())):\n",
    "                d.append((i,mvm[i][\"d\"],\"d\"))\n",
    "    choices = []\n",
    "    choices.append(a)\n",
    "    choices.append(e)\n",
    "    choices.append(g)\n",
    "    choices.append(d)\n",
    "    if(verbose and not diagonales):\n",
    "        print(\"Nombre de choix de mouvements\")\n",
    "        print(len(choices[0])+len(choices[1])+len(choices[2])+len(choices[3]))\n",
    "    if( diagonales):\n",
    "        choices.append(ag)\n",
    "        choices.append(ad)\n",
    "        choices.append(eg)\n",
    "        choices.append(ed)\n",
    "        \n",
    "    if(verbose and diagonales):\n",
    "        print(\"Nombre de choix de mouvements avec diagonales\")\n",
    "        print(len(choices[0])+len(choices[1])+len(choices[2])+len(choices[3])+len(choices[4])+len(choices[5])+len(choices[6])+len(choices[7]))\n",
    "    \n",
    "    previousPos=(0,0)\n",
    "    previousInd = -1\n",
    "    while(max(len(l) for l in choices)>0):\n",
    "        #Récupère les indices dans choices correspondant aux listes de mouvements étant les plus long\n",
    "        ml = list(choices.index(l) for l in choices if len(l) !=0)\n",
    "        ind = previousInd\n",
    "        cptBreaker = 10\n",
    "        while(ind == previousInd and cptBreaker>0):\n",
    "            ind = random.choice(ml)\n",
    "            cptBreaker -= 1\n",
    "        if(cptBreaker < 1):\n",
    "            print(\"Failed to choose a different movement. Ending\")\n",
    "            return 0\n",
    "        previousInd=ind\n",
    "        pos = previousPos\n",
    "        cptBreaker = 10\n",
    "        while(pos[0] == previousPos[0] and pos[1] == previousPos[1] and cptBreaker>0):\n",
    "            cptBreaker -= 1\n",
    "            position = random.choice(choices[ind])\n",
    "            pos = position[0]\n",
    "        if(cptBreaker < 1):\n",
    "            print(\"Failed to choose a different start location. Ending\")\n",
    "            return 0\n",
    "        previousPos=pos\n",
    "        choices[ind].remove(position)\n",
    "        listeMouvements.append(position)\n",
    "    return listeMouvements"
   ]
  },
  {
   "cell_type": "code",
   "execution_count": 12,
   "metadata": {},
   "outputs": [
    {
     "name": "stdout",
     "output_type": "stream",
     "text": [
      "Position intiales :(0, -5)\n",
      "Position intiales :(0, -8)\n",
      "Position intiales :(0, -14)\n",
      "Position intiales :(0, -24)\n",
      "Position intiales :(0, -41)\n",
      "Position intiales :(3, -4)\n",
      "Position intiales :(4, -7)\n",
      "Position intiales :(7, -12)\n",
      "Position intiales :(12, -21)\n",
      "Position intiales :(21, -36)\n",
      "Position intiales :(4, -2)\n",
      "Position intiales :(7, -4)\n",
      "Position intiales :(12, -7)\n",
      "Position intiales :(21, -12)\n",
      "Position intiales :(36, -20)\n",
      "Position intiales :(5, 0)\n",
      "Position intiales :(8, 0)\n",
      "Position intiales :(14, 0)\n",
      "Position intiales :(24, 0)\n",
      "Position intiales :(41, 0)\n",
      "Position intiales :(4, 2)\n",
      "Position intiales :(7, 4)\n",
      "Position intiales :(12, 7)\n",
      "Position intiales :(21, 12)\n",
      "Position intiales :(36, 20)\n",
      "Position intiales :(3, 4)\n",
      "Position intiales :(4, 7)\n",
      "Position intiales :(7, 12)\n",
      "Position intiales :(12, 21)\n",
      "Position intiales :(21, 36)\n",
      "Position intiales :(0, 5)\n",
      "Position intiales :(0, 8)\n",
      "Position intiales :(0, 14)\n",
      "Position intiales :(0, 24)\n",
      "Position intiales :(0, 41)\n",
      "Nombre de pos initiales étudiées 35\n",
      "Nombre de positions initiales : 35\n",
      "{(0, -5): {'e': (0, -8), 'eg': (4, -7), 'ee': (0, -14), 'eegg': (12, -7), 'g': (3, -4), 'gg': (4, -2)}, (0, -8): {'a': (0, -5), 'ag': (3, -4), 'e': (0, -14), 'eg': (7, -12), 'ee': (0, -24), 'eegg': (21, -12), 'g': (4, -7), 'gg': (7, -4)}, (0, -14): {'a': (0, -8), 'ag': (4, -7), 'aa': (0, -5), 'aagg': (4, -2), 'e': (0, -24), 'eg': (12, -21), 'ee': (0, -41), 'eegg': (36, -20), 'g': (7, -12), 'gg': (12, -7)}, (0, -24): {'a': (0, -14), 'ag': (7, -12), 'aa': (0, -8), 'aagg': (7, -4), 'e': (0, -41), 'eg': (21, -36), 'g': (12, -21), 'gg': (21, -12)}, (0, -41): {'a': (0, -24), 'ag': (12, -21), 'aa': (0, -14), 'aagg': (12, -7), 'g': (21, -36), 'gg': (36, -20)}, (3, -4): {'e': (4, -7), 'ed': (0, -8), 'eg': (7, -4), 'ee': (7, -12), 'eegg': (14, 0), 'd': (0, -5), 'g': (4, -2), 'gg': (5, 0)}, (4, -7): {'a': (3, -4), 'ad': (0, -5), 'ag': (4, -2), 'e': (7, -12), 'ed': (0, -14), 'eg': (12, -7), 'ee': (12, -21), 'eegg': (24, 0), 'd': (0, -8), 'g': (7, -4), 'gg': (8, 0)}, (7, -12): {'a': (4, -7), 'ad': (0, -8), 'ag': (7, -4), 'aa': (3, -4), 'aagg': (5, 0), 'e': (12, -21), 'ed': (0, -24), 'eg': (21, -12), 'ee': (21, -36), 'eegg': (41, 0), 'd': (0, -14), 'g': (12, -7), 'gg': (14, 0)}, (12, -21): {'a': (7, -12), 'ad': (0, -14), 'ag': (12, -7), 'aa': (4, -7), 'aagg': (8, 0), 'e': (21, -36), 'ed': (0, -41), 'eg': (36, -20), 'd': (0, -24), 'g': (21, -12), 'gg': (24, 0)}, (21, -36): {'a': (12, -21), 'ad': (0, -24), 'ag': (21, -12), 'aa': (7, -12), 'aagg': (14, 0), 'd': (0, -41), 'g': (36, -20), 'gg': (41, 0)}, (4, -2): {'e': (7, -4), 'ed': (4, -7), 'eg': (8, 0), 'ee': (12, -7), 'eedd': (0, -14), 'eegg': (12, 7), 'd': (3, -4), 'dd': (0, -5), 'g': (5, 0), 'gg': (4, 2)}, (7, -4): {'a': (4, -2), 'ad': (3, -4), 'ag': (5, 0), 'e': (12, -7), 'ed': (7, -12), 'eg': (14, 0), 'ee': (21, -12), 'eedd': (0, -24), 'eegg': (21, 12), 'd': (4, -7), 'dd': (0, -8), 'g': (8, 0), 'gg': (7, 4)}, (12, -7): {'a': (7, -4), 'ad': (4, -7), 'ag': (8, 0), 'aa': (4, -2), 'aadd': (0, -5), 'aagg': (4, 2), 'e': (21, -12), 'ed': (12, -21), 'eg': (24, 0), 'ee': (36, -20), 'eedd': (0, -41), 'eegg': (36, 20), 'd': (7, -12), 'dd': (0, -14), 'g': (14, 0), 'gg': (12, 7)}, (21, -12): {'a': (12, -7), 'ad': (7, -12), 'ag': (14, 0), 'aa': (7, -4), 'aadd': (0, -8), 'aagg': (7, 4), 'e': (36, -20), 'ed': (21, -36), 'eg': (41, 0), 'd': (12, -21), 'dd': (0, -24), 'g': (24, 0), 'gg': (21, 12)}, (36, -20): {'a': (21, -12), 'ad': (12, -21), 'ag': (24, 0), 'aa': (12, -7), 'aadd': (0, -14), 'aagg': (12, 7), 'd': (21, -36), 'dd': (0, -41), 'g': (41, 0), 'gg': (36, 20)}, (5, 0): {'e': (8, 0), 'ed': (7, -4), 'eg': (7, 4), 'ee': (14, 0), 'eedd': (7, -12), 'eegg': (7, 12), 'd': (4, -2), 'dd': (3, -4), 'g': (4, 2), 'gg': (3, 4)}, (8, 0): {'a': (5, 0), 'ad': (4, -2), 'ag': (4, 2), 'e': (14, 0), 'ed': (12, -7), 'eg': (12, 7), 'ee': (24, 0), 'eedd': (12, -21), 'eegg': (12, 21), 'd': (7, -4), 'dd': (4, -7), 'g': (7, 4), 'gg': (4, 7)}, (14, 0): {'a': (8, 0), 'ad': (7, -4), 'ag': (7, 4), 'aa': (5, 0), 'aadd': (3, -4), 'aagg': (3, 4), 'e': (24, 0), 'ed': (21, -12), 'eg': (21, 12), 'ee': (41, 0), 'eedd': (21, -36), 'eegg': (21, 36), 'd': (12, -7), 'dd': (7, -12), 'g': (12, 7), 'gg': (7, 12)}, (24, 0): {'a': (14, 0), 'ad': (12, -7), 'ag': (12, 7), 'aa': (8, 0), 'aadd': (4, -7), 'aagg': (4, 7), 'e': (41, 0), 'ed': (36, -20), 'eg': (36, 20), 'd': (21, -12), 'dd': (12, -21), 'g': (21, 12), 'gg': (12, 21)}, (41, 0): {'a': (24, 0), 'ad': (21, -12), 'ag': (21, 12), 'aa': (14, 0), 'aadd': (7, -12), 'aagg': (7, 12), 'd': (36, -20), 'dd': (21, -36), 'g': (36, 20), 'gg': (21, 36)}, (4, 2): {'e': (7, 4), 'ed': (8, 0), 'eg': (4, 7), 'ee': (12, 7), 'eedd': (12, -7), 'eegg': (0, 14), 'd': (5, 0), 'dd': (4, -2), 'g': (3, 4), 'gg': (0, 5)}, (7, 4): {'a': (4, 2), 'ad': (5, 0), 'ag': (3, 4), 'e': (12, 7), 'ed': (14, 0), 'eg': (7, 12), 'ee': (21, 12), 'eedd': (21, -12), 'eegg': (0, 24), 'd': (8, 0), 'dd': (7, -4), 'g': (4, 7), 'gg': (0, 8)}, (12, 7): {'a': (7, 4), 'ad': (8, 0), 'ag': (4, 7), 'aa': (4, 2), 'aadd': (4, -2), 'aagg': (0, 5), 'e': (21, 12), 'ed': (24, 0), 'eg': (12, 21), 'ee': (36, 20), 'eedd': (36, -20), 'eegg': (0, 41), 'd': (14, 0), 'dd': (12, -7), 'g': (7, 12), 'gg': (0, 14)}, (21, 12): {'a': (12, 7), 'ad': (14, 0), 'ag': (7, 12), 'aa': (7, 4), 'aadd': (7, -4), 'aagg': (0, 8), 'e': (36, 20), 'ed': (41, 0), 'eg': (21, 36), 'd': (24, 0), 'dd': (21, -12), 'g': (12, 21), 'gg': (0, 24)}, (36, 20): {'a': (21, 12), 'ad': (24, 0), 'ag': (12, 21), 'aa': (12, 7), 'aadd': (12, -7), 'aagg': (0, 14), 'd': (41, 0), 'dd': (36, -20), 'g': (21, 36), 'gg': (0, 41)}, (3, 4): {'e': (4, 7), 'ed': (7, 4), 'eg': (0, 8), 'ee': (7, 12), 'eedd': (14, 0), 'd': (4, 2), 'dd': (5, 0), 'g': (0, 5)}, (4, 7): {'a': (3, 4), 'ad': (4, 2), 'ag': (0, 5), 'e': (7, 12), 'ed': (12, 7), 'eg': (0, 14), 'ee': (12, 21), 'eedd': (24, 0), 'd': (7, 4), 'dd': (8, 0), 'g': (0, 8)}, (7, 12): {'a': (4, 7), 'ad': (7, 4), 'ag': (0, 8), 'aa': (3, 4), 'aadd': (5, 0), 'e': (12, 21), 'ed': (21, 12), 'eg': (0, 24), 'ee': (21, 36), 'eedd': (41, 0), 'd': (12, 7), 'dd': (14, 0), 'g': (0, 14)}, (12, 21): {'a': (7, 12), 'ad': (12, 7), 'ag': (0, 14), 'aa': (4, 7), 'aadd': (8, 0), 'e': (21, 36), 'ed': (36, 20), 'eg': (0, 41), 'd': (21, 12), 'dd': (24, 0), 'g': (0, 24)}, (21, 36): {'a': (12, 21), 'ad': (21, 12), 'ag': (0, 24), 'aa': (7, 12), 'aadd': (14, 0), 'd': (36, 20), 'dd': (41, 0), 'g': (0, 41)}, (0, 5): {'e': (0, 8), 'ed': (4, 7), 'ee': (0, 14), 'eedd': (12, 7), 'd': (3, 4), 'dd': (4, 2)}, (0, 8): {'a': (0, 5), 'ad': (3, 4), 'e': (0, 14), 'ed': (7, 12), 'ee': (0, 24), 'eedd': (21, 12), 'd': (4, 7), 'dd': (7, 4)}, (0, 14): {'a': (0, 8), 'ad': (4, 7), 'aa': (0, 5), 'aadd': (4, 2), 'e': (0, 24), 'ed': (12, 21), 'ee': (0, 41), 'eedd': (36, 20), 'd': (7, 12), 'dd': (12, 7)}, (0, 24): {'a': (0, 14), 'ad': (7, 12), 'aa': (0, 8), 'aadd': (7, 4), 'e': (0, 41), 'ed': (21, 36), 'd': (12, 21), 'dd': (21, 12)}, (0, 41): {'a': (0, 24), 'ad': (12, 21), 'aa': (0, 14), 'aadd': (12, 7), 'd': (21, 36), 'dd': (36, 20)}}\n",
      "A49\n",
      "AG39\n",
      "AD39\n",
      "E49\n",
      "EG39\n",
      "ED39\n",
      "G85\n",
      "D25\n",
      "Nombre mouvement sans diagonales\n",
      "208\n",
      "Nombre mouvement avec diagonales\n",
      "364\n",
      "Nombre de positions initiales\n",
      "35\n",
      "Nombre de choix de mouvements\n",
      "116\n",
      "Failed to choose a different movement. Ending\n"
     ]
    }
   ],
   "source": [
    "l = creationListesMouvements(diagonales = False,doubleSaut = False,nombreAngle = 7, nombreDistance = 4, verbose = True,logs= True, dist = dists)"
   ]
  },
  {
   "cell_type": "code",
   "execution_count": 13,
   "metadata": {},
   "outputs": [
    {
     "data": {
      "text/plain": [
       "0"
      ]
     },
     "execution_count": 13,
     "metadata": {},
     "output_type": "execute_result"
    }
   ],
   "source": [
    "l"
   ]
  },
  {
   "cell_type": "code",
   "execution_count": 14,
   "metadata": {},
   "outputs": [],
   "source": [
    "def posMvmToPresentationTemplate(p,diagonales = False):\n",
    "    ind = -1\n",
    "    if(not diagonales):\n",
    "        if(p[2] == 'a'):\n",
    "            ind = 2\n",
    "        if(p[2] == 'e'):\n",
    "            ind = 8\n",
    "        if(p[2] == 'g'):\n",
    "            ind = 4\n",
    "        if(p[2] == 'd'):\n",
    "            ind = 6\n",
    "    else:\n",
    "        if(p[2] == 'a'):\n",
    "            ind = 2\n",
    "        if(p[2] == 'e'):\n",
    "            ind = 8\n",
    "        if(p[2] == 'g'):\n",
    "            ind = 4\n",
    "        if(p[2] == 'd'):\n",
    "            ind = 6\n",
    "        if(p[2] == 'ag'):\n",
    "            ind = 1\n",
    "        if(p[2] == 'ad'):\n",
    "            ind = 3\n",
    "        if(p[2] == 'eg'):\n",
    "            ind = 7\n",
    "        if(p[2] == 'ed'):\n",
    "            ind = 9\n",
    "    pos00=\"\"\n",
    "    if(p[0][0]<0):\n",
    "        pos00=\"m\"+str(-p[0][0])\n",
    "    else:\n",
    "        pos00=str(p[0][0])\n",
    "    pos01=str(p[0][1])\n",
    "    if(p[0][1]<0):\n",
    "        pos01=\"m\"+str(-p[0][1])\n",
    "    else:\n",
    "        pos01=str(p[0][1])\n",
    "    pos10=\"\"\n",
    "    if(p[1][0]<0):\n",
    "        pos10=\"m\"+str(-p[1][0])\n",
    "    else:\n",
    "        pos10=str(p[1][0])\n",
    "    pos11=\"\"\n",
    "    if(p[1][1]<0):\n",
    "        pos11=\"m\"+str(-p[1][1])\n",
    "    else:\n",
    "        pos11=str(p[1][1])\n",
    "    st = str(ind)+\" sound\"+pos00+\"_\"+pos01+\" sound\"+pos10+\"_\"+pos11+\";\"\n",
    "    return st"
   ]
  },
  {
   "cell_type": "code",
   "execution_count": 15,
   "metadata": {},
   "outputs": [],
   "source": [
    "def printAllMovement(verbose = False,diagonales = False,doubleSaut = False,arraySound = False, nombreAngle = 7, nombreDistance = 4,logs= False, dist = []):\n",
    "    sounds = ['sound0_m5','sound3_m4','sound4_m2','sound5_0','sound4_2','sound3_4','sound0_5','sound0_m10','sound5_m9','sound9_m5','sound10_0','sound9_5','sound5_9', 'sound0_10','sound0_m15','sound8_m13','sound13_m7','sound15_0', 'sound13_7','sound8_13','sound0_15','sound0_m20','sound10_m17','sound17_m10','sound20_0','sound17_10','sound10_17','sound0_20']\n",
    "    listeMvm = creationListesMouvements(verbose = verbose,diagonales = diagonales,doubleSaut=doubleSaut,nombreAngle = nombreAngle, nombreDistance = nombreDistance,logs=logs,dist=dist)\n",
    "    if(listeMvm == 0):\n",
    "        print(\"Error return 0\")\n",
    "        return 0\n",
    "    cpt = 0\n",
    "    for i in listeMvm:\n",
    "        cpt+=1\n",
    "        if(arraySound):\n",
    "            p = posMvmToPresentationTemplate(i,diagonales = diagonales).split(\" \")\n",
    "        print(posMvmToPresentationTemplate(i,diagonales = diagonales))\n",
    "    print(\"Nombre de mouvement effectuable : \"+str(cpt))"
   ]
  },
  {
   "cell_type": "code",
   "execution_count": 16,
   "metadata": {
    "scrolled": true
   },
   "outputs": [
    {
     "name": "stdout",
     "output_type": "stream",
     "text": [
      "Nombre de positions disponibles : 35\n"
     ]
    },
    {
     "data": {
      "text/plain": [
       "['sound0_m5',\n",
       " 'sound3_m4',\n",
       " 'sound4_m2',\n",
       " 'sound5_0',\n",
       " 'sound4_2',\n",
       " 'sound3_4',\n",
       " 'sound0_5',\n",
       " 'sound0_m8',\n",
       " 'sound4_m7',\n",
       " 'sound7_m4',\n",
       " 'sound8_0',\n",
       " 'sound7_4',\n",
       " 'sound4_7',\n",
       " 'sound0_8',\n",
       " 'sound0_m14',\n",
       " 'sound7_m12',\n",
       " 'sound12_m7',\n",
       " 'sound14_0',\n",
       " 'sound12_7',\n",
       " 'sound7_12',\n",
       " 'sound0_14',\n",
       " 'sound0_m24',\n",
       " 'sound12_m21',\n",
       " 'sound21_m12',\n",
       " 'sound24_0',\n",
       " 'sound21_12',\n",
       " 'sound12_21',\n",
       " 'sound0_24',\n",
       " 'sound0_m41',\n",
       " 'sound21_m36',\n",
       " 'sound36_m20',\n",
       " 'sound41_0',\n",
       " 'sound36_20',\n",
       " 'sound21_36',\n",
       " 'sound0_41']"
      ]
     },
     "execution_count": 16,
     "metadata": {},
     "output_type": "execute_result"
    }
   ],
   "source": [
    "l = calculPositionDisponibles(nombreAngle = 7,logs=True,dist=dists)\n",
    "sounds = []\n",
    "for i,j in l:\n",
    "    s = \"sound\"\n",
    "    if(i<0):\n",
    "        s+=\"m\"+str(-i)\n",
    "    else:\n",
    "        s+=str(i)\n",
    "    s+=\"_\"\n",
    "    if(j<0):\n",
    "        s+=\"m\"+str(-j)\n",
    "    else:\n",
    "        s+=str(j)\n",
    "    #print(s)\n",
    "    sounds.append(s)\n",
    "print(\"Nombre de positions disponibles : \"+ str(len(sounds)))\n",
    "sounds\n"
   ]
  },
  {
   "cell_type": "code",
   "execution_count": null,
   "metadata": {
    "scrolled": true
   },
   "outputs": [],
   "source": []
  },
  {
   "cell_type": "code",
   "execution_count": 17,
   "metadata": {
    "scrolled": false
   },
   "outputs": [
    {
     "name": "stdout",
     "output_type": "stream",
     "text": [
      "sound { wavefile { filename = \"1000ms/audioMosquito0_m5.wav\";};} sound0_m5;\n",
      "sound { wavefile { filename = \"1000ms/audioMosquito3_m4.wav\";};} sound3_m4;\n",
      "sound { wavefile { filename = \"1000ms/audioMosquito4_m2.wav\";};} sound4_m2;\n",
      "sound { wavefile { filename = \"1000ms/audioMosquito5_0.wav\";};} sound5_0;\n",
      "sound { wavefile { filename = \"1000ms/audioMosquito4_2.wav\";};} sound4_2;\n",
      "sound { wavefile { filename = \"1000ms/audioMosquito3_4.wav\";};} sound3_4;\n",
      "sound { wavefile { filename = \"1000ms/audioMosquito0_5.wav\";};} sound0_5;\n",
      "sound { wavefile { filename = \"1000ms/audioMosquito0_m8.wav\";};} sound0_m8;\n",
      "sound { wavefile { filename = \"1000ms/audioMosquito4_m7.wav\";};} sound4_m7;\n",
      "sound { wavefile { filename = \"1000ms/audioMosquito7_m4.wav\";};} sound7_m4;\n",
      "sound { wavefile { filename = \"1000ms/audioMosquito8_0.wav\";};} sound8_0;\n",
      "sound { wavefile { filename = \"1000ms/audioMosquito7_4.wav\";};} sound7_4;\n",
      "sound { wavefile { filename = \"1000ms/audioMosquito4_7.wav\";};} sound4_7;\n",
      "sound { wavefile { filename = \"1000ms/audioMosquito0_8.wav\";};} sound0_8;\n",
      "sound { wavefile { filename = \"1000ms/audioMosquito0_m14.wav\";};} sound0_m14;\n",
      "sound { wavefile { filename = \"1000ms/audioMosquito7_m12.wav\";};} sound7_m12;\n",
      "sound { wavefile { filename = \"1000ms/audioMosquito12_m7.wav\";};} sound12_m7;\n",
      "sound { wavefile { filename = \"1000ms/audioMosquito14_0.wav\";};} sound14_0;\n",
      "sound { wavefile { filename = \"1000ms/audioMosquito12_7.wav\";};} sound12_7;\n",
      "sound { wavefile { filename = \"1000ms/audioMosquito7_12.wav\";};} sound7_12;\n",
      "sound { wavefile { filename = \"1000ms/audioMosquito0_14.wav\";};} sound0_14;\n",
      "sound { wavefile { filename = \"1000ms/audioMosquito0_m24.wav\";};} sound0_m24;\n",
      "sound { wavefile { filename = \"1000ms/audioMosquito12_m21.wav\";};} sound12_m21;\n",
      "sound { wavefile { filename = \"1000ms/audioMosquito21_m12.wav\";};} sound21_m12;\n",
      "sound { wavefile { filename = \"1000ms/audioMosquito24_0.wav\";};} sound24_0;\n",
      "sound { wavefile { filename = \"1000ms/audioMosquito21_12.wav\";};} sound21_12;\n",
      "sound { wavefile { filename = \"1000ms/audioMosquito12_21.wav\";};} sound12_21;\n",
      "sound { wavefile { filename = \"1000ms/audioMosquito0_24.wav\";};} sound0_24;\n",
      "sound { wavefile { filename = \"1000ms/audioMosquito0_m41.wav\";};} sound0_m41;\n",
      "sound { wavefile { filename = \"1000ms/audioMosquito21_m36.wav\";};} sound21_m36;\n",
      "sound { wavefile { filename = \"1000ms/audioMosquito36_m20.wav\";};} sound36_m20;\n",
      "sound { wavefile { filename = \"1000ms/audioMosquito41_0.wav\";};} sound41_0;\n",
      "sound { wavefile { filename = \"1000ms/audioMosquito36_20.wav\";};} sound36_20;\n",
      "sound { wavefile { filename = \"1000ms/audioMosquito21_36.wav\";};} sound21_36;\n",
      "sound { wavefile { filename = \"1000ms/audioMosquito0_41.wav\";};} sound0_41;\n"
     ]
    }
   ],
   "source": [
    "#Liste des fichiers sons a mettre dans la partie définition des variables dans Presentation\n",
    "sounds\n",
    "for i in sounds:\n",
    "    s=i.split(\"sound\")[1]\n",
    "    print(\"sound { wavefile { filename = \\\"1000ms/audioMosquito\"+s+\".wav\\\";};} sound\"+s+\";\")"
   ]
  },
  {
   "cell_type": "code",
   "execution_count": 19,
   "metadata": {},
   "outputs": [
    {
     "ename": "TypeError",
     "evalue": "'<' not supported between instances of 'str' and 'int'",
     "output_type": "error",
     "traceback": [
      "\u001b[1;31m---------------------------------------------------------------------------\u001b[0m",
      "\u001b[1;31mTypeError\u001b[0m                                 Traceback (most recent call last)",
      "\u001b[1;32m<ipython-input-19-f312607fe1d3>\u001b[0m in \u001b[0;36m<module>\u001b[1;34m\u001b[0m\n\u001b[1;32m----> 1\u001b[1;33m \u001b[0mp\u001b[0m \u001b[1;33m=\u001b[0m \u001b[0mposMvmToPresentationTemplate\u001b[0m\u001b[1;33m(\u001b[0m\u001b[0mi\u001b[0m\u001b[1;33m,\u001b[0m\u001b[0mdiagonales\u001b[0m \u001b[1;33m=\u001b[0m \u001b[1;32mFalse\u001b[0m\u001b[1;33m)\u001b[0m\u001b[1;33m.\u001b[0m\u001b[0mreplace\u001b[0m\u001b[1;33m(\u001b[0m\u001b[1;34m\";\"\u001b[0m\u001b[1;33m,\u001b[0m\u001b[1;34m\"\"\u001b[0m\u001b[1;33m)\u001b[0m\u001b[1;33m.\u001b[0m\u001b[0msplit\u001b[0m\u001b[1;33m(\u001b[0m\u001b[1;34m\" \"\u001b[0m\u001b[1;33m)\u001b[0m\u001b[1;33m\u001b[0m\u001b[1;33m\u001b[0m\u001b[0m\n\u001b[0m\u001b[0;32m      2\u001b[0m \u001b[0mp\u001b[0m\u001b[1;33m\u001b[0m\u001b[1;33m\u001b[0m\u001b[0m\n",
      "\u001b[1;32m<ipython-input-14-2e0c2f812929>\u001b[0m in \u001b[0;36mposMvmToPresentationTemplate\u001b[1;34m(p, diagonales)\u001b[0m\n\u001b[0;32m     28\u001b[0m             \u001b[0mind\u001b[0m \u001b[1;33m=\u001b[0m \u001b[1;36m9\u001b[0m\u001b[1;33m\u001b[0m\u001b[1;33m\u001b[0m\u001b[0m\n\u001b[0;32m     29\u001b[0m     \u001b[0mpos00\u001b[0m\u001b[1;33m=\u001b[0m\u001b[1;34m\"\"\u001b[0m\u001b[1;33m\u001b[0m\u001b[1;33m\u001b[0m\u001b[0m\n\u001b[1;32m---> 30\u001b[1;33m     \u001b[1;32mif\u001b[0m\u001b[1;33m(\u001b[0m\u001b[0mp\u001b[0m\u001b[1;33m[\u001b[0m\u001b[1;36m0\u001b[0m\u001b[1;33m]\u001b[0m\u001b[1;33m[\u001b[0m\u001b[1;36m0\u001b[0m\u001b[1;33m]\u001b[0m\u001b[1;33m<\u001b[0m\u001b[1;36m0\u001b[0m\u001b[1;33m)\u001b[0m\u001b[1;33m:\u001b[0m\u001b[1;33m\u001b[0m\u001b[1;33m\u001b[0m\u001b[0m\n\u001b[0m\u001b[0;32m     31\u001b[0m         \u001b[0mpos00\u001b[0m\u001b[1;33m=\u001b[0m\u001b[1;34m\"m\"\u001b[0m\u001b[1;33m+\u001b[0m\u001b[0mstr\u001b[0m\u001b[1;33m(\u001b[0m\u001b[1;33m-\u001b[0m\u001b[0mp\u001b[0m\u001b[1;33m[\u001b[0m\u001b[1;36m0\u001b[0m\u001b[1;33m]\u001b[0m\u001b[1;33m[\u001b[0m\u001b[1;36m0\u001b[0m\u001b[1;33m]\u001b[0m\u001b[1;33m)\u001b[0m\u001b[1;33m\u001b[0m\u001b[1;33m\u001b[0m\u001b[0m\n\u001b[0;32m     32\u001b[0m     \u001b[1;32melse\u001b[0m\u001b[1;33m:\u001b[0m\u001b[1;33m\u001b[0m\u001b[1;33m\u001b[0m\u001b[0m\n",
      "\u001b[1;31mTypeError\u001b[0m: '<' not supported between instances of 'str' and 'int'"
     ]
    }
   ],
   "source": [
    "p = posMvmToPresentationTemplate(i,diagonales = False).replace(\";\",\"\").split(\" \")\n",
    "p"
   ]
  },
  {
   "cell_type": "code",
   "execution_count": 20,
   "metadata": {},
   "outputs": [
    {
     "ename": "NameError",
     "evalue": "name 'listeMvm' is not defined",
     "output_type": "error",
     "traceback": [
      "\u001b[1;31m---------------------------------------------------------------------------\u001b[0m",
      "\u001b[1;31mNameError\u001b[0m                                 Traceback (most recent call last)",
      "\u001b[1;32m<ipython-input-20-f45c9690cc18>\u001b[0m in \u001b[0;36m<module>\u001b[1;34m\u001b[0m\n\u001b[1;32m----> 1\u001b[1;33m \u001b[1;32mwhile\u001b[0m\u001b[1;33m(\u001b[0m\u001b[0mlisteMvm\u001b[0m \u001b[1;33m==\u001b[0m \u001b[1;36m0\u001b[0m\u001b[1;33m)\u001b[0m\u001b[1;33m:\u001b[0m\u001b[1;33m\u001b[0m\u001b[1;33m\u001b[0m\u001b[0m\n\u001b[0m\u001b[0;32m      2\u001b[0m     \u001b[0mlisteMvm\u001b[0m \u001b[1;33m=\u001b[0m \u001b[0mcreationListesMouvements\u001b[0m\u001b[1;33m(\u001b[0m\u001b[0mverbose\u001b[0m \u001b[1;33m=\u001b[0m \u001b[1;32mFalse\u001b[0m\u001b[1;33m,\u001b[0m\u001b[0mdiagonales\u001b[0m \u001b[1;33m=\u001b[0m \u001b[1;32mFalse\u001b[0m\u001b[1;33m,\u001b[0m\u001b[0mdoubleSaut\u001b[0m\u001b[1;33m=\u001b[0m\u001b[1;32mFalse\u001b[0m\u001b[1;33m,\u001b[0m\u001b[0mlogs\u001b[0m\u001b[1;33m=\u001b[0m\u001b[1;32mTrue\u001b[0m\u001b[1;33m,\u001b[0m\u001b[0mdist\u001b[0m\u001b[1;33m=\u001b[0m\u001b[0mdists\u001b[0m\u001b[1;33m)\u001b[0m\u001b[1;33m\u001b[0m\u001b[1;33m\u001b[0m\u001b[0m\n\u001b[0;32m      3\u001b[0m \u001b[1;33m\u001b[0m\u001b[0m\n\u001b[0;32m      4\u001b[0m \u001b[0mar\u001b[0m \u001b[1;33m=\u001b[0m \u001b[1;34m\"\"\u001b[0m\u001b[1;33m;\u001b[0m\u001b[1;33m\u001b[0m\u001b[1;33m\u001b[0m\u001b[0m\n\u001b[0;32m      5\u001b[0m \u001b[0mids\u001b[0m \u001b[1;33m=\u001b[0m \u001b[1;34m\"\"\u001b[0m\u001b[1;33m;\u001b[0m\u001b[1;33m\u001b[0m\u001b[1;33m\u001b[0m\u001b[0m\n",
      "\u001b[1;31mNameError\u001b[0m: name 'listeMvm' is not defined"
     ]
    }
   ],
   "source": [
    "while(listeMvm == 0):\n",
    "    listeMvm = creationListesMouvements(verbose = False,diagonales = False,doubleSaut=False,logs=True,dist=dists)\n",
    "\n",
    "ar = \"\";\n",
    "ids = \"\";\n",
    "cpt=0\n",
    "for i in listeMvm:\n",
    "    cpt+=1\n",
    "    print(\"pathSave.push_back({ \"+str(i[0][0])+\",\"+str(i[0][1])+\" });\")\n",
    "    print(\"pathSave.push_back({ \"+str(i[1][0])+\",\"+str(i[1][1])+\" });\")\n"
   ]
  },
  {
   "cell_type": "code",
   "execution_count": 21,
   "metadata": {
    "scrolled": false
   },
   "outputs": [
    {
     "name": "stdout",
     "output_type": "stream",
     "text": [
      "Failed to choose a different start location. Ending\n",
      "Failed to choose a different movement. Ending\n",
      "Failed to choose a different movement. Ending\n",
      "Failed to choose a different movement. Ending\n",
      "Failed to choose a different movement. Ending\n",
      "Failed to choose a different movement. Ending\n",
      "Failed to choose a different movement. Ending\n",
      "Failed to choose a different movement. Ending\n",
      "Failed to choose a different start location. Ending\n",
      "Failed to choose a different start location. Ending\n",
      "array <int>  mouvements[116][2] = {{19,20},{28,27},{27,28},{35,34},{6,7},{19,26},{25,18},{26,33},{15,8},{26,25},{22,15},{19,18},{23,16},{11,12},{2,9},{7,6},{24,17},{12,19},{11,10},{10,3},{8,9},{33,32},{5,12},{9,2},{17,16},{33,26},{18,17},{14,7},{13,20},{8,1},{24,31},{9,8},{18,25},{13,14},{31,24},{3,10},{29,30},{15,22},{18,11},{16,23},{13,6},{16,15},{17,18},{20,13},{3,4},{7,14},{31,30},{32,25},{12,13},{4,11},{24,25},{2,1},{8,15},{16,17},{34,33},{22,23},{1,8},{34,35},{26,19},{12,11},{26,27},{17,10},{30,29},{27,34},{25,26},{27,26},{20,27},{23,24},{9,16},{10,9},{9,10},{4,3},{12,5},{6,13},{34,27},{21,20},{27,20},{32,33},{29,22},{20,21},{11,4},{15,16},{35,28},{32,31},{30,31},{16,9},{18,19},{30,23},{11,18},{19,12},{25,32},{20,19},{10,11},{23,30},{6,5},{22,29},{5,4},{4,5},{21,14},{10,17},{28,21},{14,21},{33,34},{28,35},{25,24},{5,6},{3,2},{17,24},{23,22},{21,28},{1,2},{24,23},{2,3},{14,13},{31,32},{13,12}};\n",
      "array <int> idsMvm[116] = {4,6,4,6,4,8,2,8,2,6,2,6,2,4,8,6,2,8,6,2,4,6,8,2,6,2,6,2,8,2,8,6,8,4,2,8,4,8,2,8,2,6,4,2,4,8,6,2,4,8,4,6,8,4,6,4,8,4,2,6,4,2,6,8,4,6,8,4,8,6,4,6,2,8,2,6,2,4,2,4,2,4,2,6,4,2,4,2,8,2,8,6,4,8,6,8,6,4,2,8,2,8,4,8,6,4,6,8,6,8,4,6,4,6,4,6};\n",
      "array <int> positions[35][2] = {{0,-5},{3,-4},{4,-2},{5,0},{4,2},{3,4},{0,5},{0,-8},{4,-7},{7,-4},{8,0},{7,4},{4,7},{0,8},{0,-14},{7,-12},{12,-7},{14,0},{12,7},{7,12},{0,14},{0,-24},{12,-21},{21,-12},{24,0},{21,12},{12,21},{0,24},{0,-41},{21,-36},{36,-20},{41,0},{36,20},{21,36},{0,41}};\n"
     ]
    }
   ],
   "source": [
    "#Pour obtenir un nouvel arrangement de mouvements\n",
    "#copier les deux affichages produits et remplacer les lignes correspondantes dans Presentation\n",
    "listeMvm = 0\n",
    "while(listeMvm == 0):\n",
    "    listeMvm = creationListesMouvements(verbose = False,diagonales = False,doubleSaut=False,logs=True,dist=dists)\n",
    "ar = \"\";\n",
    "ids = \"\";\n",
    "for i in listeMvm:\n",
    "    p = posMvmToPresentationTemplate(i,diagonales = False).replace(\";\",\"\").split(\" \")\n",
    "    ar+=\"{\"+str(sounds.index(p[1])+1)+\",\"+str(sounds.index(p[2])+1)+\"},\"\n",
    "    ids+=str(p[0])+\",\"\n",
    "ar =\"array <int>  mouvements[\"+str(len(listeMvm))+\"][2] = {\"+ar[:-1]+\"};\"\n",
    "ids=\"array <int> idsMvm[\"+str(len(listeMvm))+\"] = {\"+ids[:-1]+\"};\"\n",
    "print(ar)\n",
    "print(ids)\n",
    "st = \"array <int> positions[\"+str(len(l))+\"][2] = {\"\n",
    "for i,j in l :\n",
    "    st+=\"{\"+str(i)+\",\"+str(j)+\"},\"\n",
    "st=st[:-1]+\"};\"\n",
    "print(st)"
   ]
  },
  {
   "cell_type": "code",
   "execution_count": 22,
   "metadata": {
    "scrolled": true
   },
   "outputs": [],
   "source": [
    "def produceMovements(diagonales,doubleSaut,nombreAngle = 7, nombreDistance = 4,verbose = False,logs=False,dist=[]):\n",
    "    x = 0\n",
    "    while(x == 0):\n",
    "        x = printAllMovement(diagonales = diagonales,verbose = verbose,nombreAngle = nombreAngle, nombreDistance = nombreDistance,doubleSaut=doubleSaut,logs=logs,dist=dist)"
   ]
  },
  {
   "cell_type": "code",
   "execution_count": null,
   "metadata": {
    "scrolled": true
   },
   "outputs": [],
   "source": [
    "produceMovements(diagonales = False,doubleSaut = False, nombreAngle = 7,logs=True,dist=dists)"
   ]
  }
 ],
 "metadata": {
  "kernelspec": {
   "display_name": "Python 3",
   "language": "python",
   "name": "python3"
  },
  "language_info": {
   "codemirror_mode": {
    "name": "ipython",
    "version": 3
   },
   "file_extension": ".py",
   "mimetype": "text/x-python",
   "name": "python",
   "nbconvert_exporter": "python",
   "pygments_lexer": "ipython3",
   "version": "3.7.6"
  }
 },
 "nbformat": 4,
 "nbformat_minor": 4
}
