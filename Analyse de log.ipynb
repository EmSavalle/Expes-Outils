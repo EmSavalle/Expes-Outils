{
 "cells": [
  {
   "cell_type": "markdown",
   "metadata": {},
   "source": [
    "Ajouter étude du temps de réaction"
   ]
  },
  {
   "cell_type": "code",
   "execution_count": 1,
   "metadata": {},
   "outputs": [],
   "source": [
    "import math, random"
   ]
  },
  {
   "cell_type": "code",
   "execution_count": 2,
   "metadata": {},
   "outputs": [
    {
     "data": {
      "text/plain": [
       "'Experience Fiabilité\\\\LogFile\\\\Antoine29_10ReponseStimuli.txt'"
      ]
     },
     "execution_count": 2,
     "metadata": {},
     "output_type": "execute_result"
    }
   ],
   "source": [
    "logfileDirectory = \"Experience Fiabilité\\\\LogFile\\\\\"\n",
    "subjectName = \"Antoine29_10\"\n",
    "fileNameExtension = \"ReponseStimuli.txt\"\n",
    "logfileName = logfileDirectory+subjectName+fileNameExtension\n",
    "logfileName"
   ]
  },
  {
   "cell_type": "code",
   "execution_count": 3,
   "metadata": {},
   "outputs": [],
   "source": [
    "def webfrac(x=1,nb=5, k = 0.9):\n",
    "    \"\"\"\n",
    "    Trouve une valeur Z tel que la weberFraction(x,y)=weberFraction(y,z)\n",
    "    Valeur de référence : a distance de 15, il faut au moins une seconde distance de 18 pour differencier\n",
    "    \"\"\"\n",
    "    \n",
    "    \n",
    "    res = [x]\n",
    "    for i in range(nb-1):\n",
    "        res.append(round(res[-1]*k+res[-1]))\n",
    "    return res"
   ]
  },
  {
   "cell_type": "code",
   "execution_count": 4,
   "metadata": {
    "scrolled": true
   },
   "outputs": [
    {
     "data": {
      "text/plain": [
       "[5, 8, 14, 24, 41]"
      ]
     },
     "execution_count": 4,
     "metadata": {},
     "output_type": "execute_result"
    }
   ],
   "source": [
    "dists = webfrac(5,5,k=0.7)\n",
    "dists"
   ]
  },
  {
   "cell_type": "code",
   "execution_count": 5,
   "metadata": {},
   "outputs": [],
   "source": [
    "logs= True"
   ]
  },
  {
   "cell_type": "code",
   "execution_count": 6,
   "metadata": {},
   "outputs": [],
   "source": [
    "def convertDistanceAngleEnPosition(angle,distance, ecartDistance = 5, logs = False, dist = []):\n",
    "    if(logs):\n",
    "        r = dist[distance]\n",
    "    else:\n",
    "        r = distance*ecartDistance\n",
    "    #Shift pour lisibilité : Pour la simulation 0° est devant 90° est a gauche\n",
    "    angle = angle-90\n",
    "    posX = r*math.cos(math.radians(angle))\n",
    "    posY = r*math.sin(math.radians(angle))\n",
    "    return (round(posX),round(posY))\n"
   ]
  },
  {
   "cell_type": "code",
   "execution_count": 7,
   "metadata": {},
   "outputs": [],
   "source": [
    "def calculPositionDisponiblesmods(nombreAngle = 7,nombreDistance=4, espaceDistance = 5, logs = False, dist = []):\n",
    "    \"\"\"Détermine l'ensemble des positions disponibles en fonctions du nombre d'angles et de cercles de positionnement accessible\"\"\"\n",
    "    position = []\n",
    "    deltaAngle = 180 / (nombreAngle - 1)\n",
    "    if(logs):\n",
    "        for d in range(0,len(dist)):\n",
    "            for a in range(0, nombreAngle):\n",
    "                angle = a * deltaAngle\n",
    "                x,y = convertDistanceAngleEnPosition(angle,d,logs=logs,dist=dist)\n",
    "                position.append((round(x),round(y)))\n",
    "    else:\n",
    "        for d in range(1,nombreDistance+1):\n",
    "            for a in range(0, nombreAngle):\n",
    "                angle = a * deltaAngle\n",
    "                x,y = convertDistanceAngleEnPosition(angle,d)\n",
    "                position.append((round(x),round(y)))\n",
    "    return position"
   ]
  },
  {
   "cell_type": "code",
   "execution_count": 8,
   "metadata": {},
   "outputs": [],
   "source": [
    "def calculPositionDisponibles(nombreAngle = 7,nombreDistance=4, espaceDistance = 5, logs = False, dist = dists, posDict = True):\n",
    "    \"\"\"Détermine l'ensemble des positions disponibles en fonctions du nombre d'angles et de cercles de positionnement accessible\"\"\"\n",
    "    position = dict()\n",
    "    positionGroupe = dict()\n",
    "    deltaAngle = 180 / (nombreAngle - 1)\n",
    "    if(logs):\n",
    "        for d in range(0,len(dist)):\n",
    "            position[d] = []\n",
    "            for a in range(0, nombreAngle):\n",
    "                angle = a * deltaAngle\n",
    "                x,y = convertDistanceAngleEnPosition(angle,d,logs=logs,dist=dist)\n",
    "                if(posDict):\n",
    "                    position[d].append((round(x),round(y)))\n",
    "                else:\n",
    "                    positionGroupe[str(x)+\"_\"+str(y)] = [d,int(angle)]\n",
    "        \n",
    "    else:\n",
    "        for d in range(1,nombreDistance+1):\n",
    "            position[d] = []\n",
    "            for a in range(0, nombreAngle):\n",
    "                angle = a * deltaAngle\n",
    "                x,y = convertDistanceAngleEnPosition(angle,d)\n",
    "                if(posDict):\n",
    "                    position[d].append((round(x),round(y)))\n",
    "                else:\n",
    "                    positionGroupe[str(x)+\"_\"+str(y)] = [d,int(angle)]\n",
    "    if(posDict):\n",
    "        return position\n",
    "    else:\n",
    "        return positionGroupe"
   ]
  },
  {
   "cell_type": "code",
   "execution_count": 9,
   "metadata": {},
   "outputs": [],
   "source": [
    "def convertirPositionEnDistance(x,y,verbose = False):\n",
    "    pos = calculPositionDisponibles(logs=logs,dist=dist)\n",
    "    for d in pos.keys():\n",
    "        for i,j in pos[d]:\n",
    "            if(i == x and j == y):\n",
    "                if(verbose):\n",
    "                    print(\"Distance : \"+str(d))\n",
    "                return d\n",
    "def convertirPositionEnDistance(string,verbose = False,logs=False,dist=[]):\n",
    "    string= string.split(\"_\")\n",
    "    x=int(string[0])\n",
    "    y=int(string[1])\n",
    "    pos = calculPositionDisponibles(logs=logs,dist=dist)\n",
    "    for d in pos.keys():\n",
    "        for i,j in pos[d]:\n",
    "            if(i == x and j == y):\n",
    "                if(verbose):\n",
    "                    print(\"Distance : \"+str(d))\n",
    "                return d\n",
    "    return -1"
   ]
  },
  {
   "cell_type": "code",
   "execution_count": 10,
   "metadata": {
    "scrolled": true
   },
   "outputs": [
    {
     "name": "stdout",
     "output_type": "stream",
     "text": [
      "Moyenne des certitudes pour de bonnes réponses 3.9473684210526314\n",
      "Moyenne des certitudes pour de mauvaises réponses 3.0\n",
      "Etude des distances\n",
      "Distance de départ\n",
      "\tRésultats en fonctions des distances : ['50.0%', '66.67%', '80.0%', '100.0%', '33.33%', [0, 0]]\n",
      "Distance d'arrivée\n",
      "\tRésultats en fonctions des distances : ['50.0%', '66.67%', '87.5%', '80.0%', '66.67%', [0, 0]]\n"
     ]
    }
   ],
   "source": [
    "verboseDetail = False\n",
    "diagonales = False\n",
    "deplacements = [\"Approche Gauche\",\"Approche\",\"Approche Droite\",\"Gauche\",\"Aucun\",\"Droite\",\"Eloignement Gauche\",\"Eloignement\",\"Eloignement Droite\"]\n",
    "reponses = dict()\n",
    "bonnesReponses = [0,0,0,0,0,0,0,0,0]\n",
    "mauvaisesReponses = [0,0,0,0,0,0,0,0,0]\n",
    "resultatsDistances = [[0,0],[0,0],[0,0],[0,0],[0,0],[0,0]]\n",
    "resultatsDistances2 = [[0,0],[0,0],[0,0],[0,0],[0,0],[0,0]]\n",
    "deplacementsDistance = [[[0,0],[0,0],[0,0],[0,0],[0,0],[0,0],[0,0],[0,0],[0,0]],[[0,0],[0,0],[0,0],[0,0],[0,0],[0,0],[0,0],[0,0],[0,0]],[[0,0],[0,0],[0,0],[0,0],[0,0],[0,0],[0,0],[0,0],[0,0]],[[0,0],[0,0],[0,0],[0,0],[0,0],[0,0],[0,0],[0,0],[0,0]],[[0,0],[0,0],[0,0],[0,0],[0,0],[0,0],[0,0],[0,0],[0,0]],[[0,0],[0,0],[0,0],[0,0],[0,0],[0,0],[0,0],[0,0],[0,0]]]\n",
    "certaintyBonneReponse = []\n",
    "certaintyMauvaiseReponse = []\n",
    "logfile = open(logfileName,'r')\n",
    "log = logfile.read()\n",
    "trials = log.split(\"Fin\")\n",
    "for t in trials:\n",
    "    dist = -1\n",
    "    dist2 = -1\n",
    "    lines = t.split(\"\\n\")\n",
    "    reponseCorrecte = 0\n",
    "    expected = -1\n",
    "    rt = -1\n",
    "    cert = -1\n",
    "    rtcert = -1\n",
    "    nTrial = -1\n",
    "    posDistance = -1\n",
    "    posCorrecte = -1\n",
    "    p1 = -1\n",
    "    p2 = -1\n",
    "    pSelec = -1\n",
    "    for i in lines:\n",
    "        if(\"trial\" in i): #Determine le n° de l'etape\n",
    "            s = i.split(\" \")\n",
    "            nTrial = int(s[-1])\n",
    "            if(verboseDetail):\n",
    "                print(\"Etape \"+s[-1])\n",
    "        elif(\"input\" in i):#Etudie la réponse donnée\n",
    "            sp = i.split(\" \")\n",
    "            r = sp[0].split(\"/\")\n",
    "            inp = int(r[0])\n",
    "            expected = int(r[1])\n",
    "\n",
    "            if(verboseDetail):\n",
    "                print(\"Réponse attendue \" + str(expected))\n",
    "                print(\"Réponse donnée \" + str(inp))\n",
    "            if(inp != expected): #Réponse donnée différente de l'attendue\n",
    "                mauvaisesReponses[expected-1]+=1\n",
    "                if(verboseDetail):\n",
    "                    print(\"Mauvaise réponse\")\n",
    "                reponseCorrecte = 2\n",
    "                if(dist != -1):\n",
    "                    resultatsDistances[dist][1]+=1\n",
    "                    resultatsDistances2[dist2][1]+=1\n",
    "                    deplacementsDistance[dist][expected-1][1]+=1\n",
    "            else:#Bonne réponse\n",
    "                bonnesReponses[inp-1]+=1\n",
    "                if(verboseDetail):\n",
    "                    print(\"Bonne réponse\")\n",
    "                reponseCorrecte = 1\n",
    "                if(dist != -1):\n",
    "                    resultatsDistances[dist][0]+=1\n",
    "                    resultatsDistances2[dist2][0]+=1\n",
    "                    deplacementsDistance[dist][expected-1][0]+=1\n",
    "        elif(\"Certainty\" in i and \"ReactionTime\" not in i):#Etude de la certitude de l'utilisateur dans la réponse\n",
    "            if(\"Certainty\" in i.split(\" \")[0]):\n",
    "                cert = int(i.split(\" \")[1])\n",
    "            else:\n",
    "                cert = int(i.split(\" \")[0])\n",
    "            if(verboseDetail):\n",
    "                print(\"Certitude \"+str(cert))\n",
    "            if(reponseCorrecte == 1):\n",
    "                certaintyBonneReponse.append(cert)\n",
    "            elif(reponseCorrecte == 2):\n",
    "                certaintyMauvaiseReponse.append(cert)\n",
    "                \n",
    "        elif(\"Position1\" in i):#Détermine la position initiale\n",
    "            pos1 = i.split(\" \")[1]\n",
    "            dist = convertirPositionEnDistance(pos1,logs=logs,dist=dists)\n",
    "            if(reponseCorrecte != 0):\n",
    "                if(reponseCorrecte == 1):\n",
    "                    resultatsDistances[dist][0]+=1\n",
    "                else:\n",
    "                    resultatsDistances[dist][1]+=1\n",
    "            if(expected != -1):\n",
    "                if(expected == inp):\n",
    "                    deplacementsDistance[dist][expected-1][0]+=1\n",
    "                else:\n",
    "                    deplacementsDistance[dist][expected-1][1]+=1\n",
    "                    \n",
    "        elif(\"Position2\" in i):#Détermine la position initiale\n",
    "            pos2 = i.split(\" \")[1]\n",
    "            dist2 = convertirPositionEnDistance(pos2,logs=logs,dist=dists)\n",
    "            if(reponseCorrecte != 0):\n",
    "                if(reponseCorrecte == 1):\n",
    "                    resultatsDistances2[dist2][0]+=1\n",
    "                else:\n",
    "                    resultatsDistances2[dist2][1]+=1\n",
    "        elif(\"ReactionTime\" in i):\n",
    "            if(\"ReactionTimeCertainty\" in i):\n",
    "                rtcert = int(i.split(\" \")[1])\n",
    "            else:\n",
    "                rt = int(i.split(\" \")[1])\n",
    "        elif(\"Distance\" in i):\n",
    "            d = int(i.split(\" \")[1])\n",
    "            posDistance = d\n",
    "        elif(\"PositionCorrecte\" in i):\n",
    "            posCorrecte = i.split(\" \")[1]\n",
    "        elif(\"Selection\" in i):\n",
    "            p = i.split(\" \")\n",
    "            p1 = p[1].split(\"/\")\n",
    "            p1 = (int(p1[0]),int(p1[1]))\n",
    "            p2 = p[2].split(\"/\")\n",
    "            p2 = (int(p2[0]),int(p2[1]))\n",
    "            pSelec = p[3].split(\"/\")\n",
    "            pSelec = (int(pSelec[0]),int(pSelec[1]))\n",
    "    d,a = calculPositionDisponibles(posDict = False,logs=True,dist=dists)[pos1]\n",
    "    if(d not in reponses.keys()):\n",
    "        reponses[d] = dict()\n",
    "    if(a not in reponses[d].keys()):\n",
    "        reponses[d][a] = dict()\n",
    "    if(inp-1 <=8):\n",
    "        reponses[d][a][deplacements[expected-1]] = dict()\n",
    "        reponses[d][a][deplacements[expected-1]][\"Reponse\"] = deplacements[inp-1]\n",
    "        reponses[d][a][deplacements[expected-1]][\"ReactionTime\"] = rt\n",
    "        reponses[d][a][deplacements[expected-1]][\"ReactionTimeCertainty\"] = rtcert\n",
    "        reponses[d][a][deplacements[expected-1]][\"Confiance\"] = cert\n",
    "        reponses[d][a][deplacements[expected-1]][\"Numero\"] = nTrial\n",
    "        reponses[d][a][deplacements[expected-1]][\"Distance\"] = posDistance\n",
    "        reponses[d][a][deplacements[expected-1]][\"PosCorrecte\"] = posCorrecte\n",
    "        reponses[d][a][deplacements[expected-1]][\"P1\"] = p1\n",
    "        reponses[d][a][deplacements[expected-1]][\"P2\"] = p2\n",
    "        reponses[d][a][deplacements[expected-1]][\"PSelec\"] = pSelec\n",
    "\n",
    "\n",
    "if(len(certaintyBonneReponse) > 0):\n",
    "    print(\"Moyenne des certitudes pour de bonnes réponses \"+str(sum(certaintyBonneReponse) / len(certaintyBonneReponse) ))\n",
    "else:\n",
    "    print(\"Pas de bonnes réponses\")\n",
    "if(len(certaintyMauvaiseReponse) > 0):\n",
    "    print(\"Moyenne des certitudes pour de mauvaises réponses \"+str(sum(certaintyMauvaiseReponse) / len(certaintyMauvaiseReponse) ))\n",
    "else:\n",
    "    print(\"Pas de mauvaises réponses\")\n",
    "for i in range(len(dists)):\n",
    "    if(resultatsDistances[i][0]+resultatsDistances[i][1] != 0):\n",
    "        resultatsDistances[i] = str(round(resultatsDistances[i][0]/(resultatsDistances[i][0]+resultatsDistances[i][1])*100,2))+\"%\"\n",
    "\n",
    "for i in range(len(dists)):\n",
    "    if(resultatsDistances2[i][0]+resultatsDistances2[i][1] != 0):\n",
    "        resultatsDistances2[i] = str(round(resultatsDistances2[i][0]/(resultatsDistances2[i][0]+resultatsDistances2[i][1])*100,2))+\"%\"\n",
    "print(\"Etude des distances\")\n",
    "print(\"Distance de départ\")\n",
    "print(\"\\tRésultats en fonctions des distances : \"+str(resultatsDistances))\n",
    "print(\"Distance d'arrivée\")\n",
    "print(\"\\tRésultats en fonctions des distances : \"+str(resultatsDistances2))\n",
    "\n",
    "if(verboseDetail):\n",
    "    print(deplacementsDistance)"
   ]
  },
  {
   "cell_type": "code",
   "execution_count": 11,
   "metadata": {},
   "outputs": [
    {
     "name": "stdout",
     "output_type": "stream",
     "text": [
      "\n",
      "Résultats\n",
      "Mouvement : bonne/mauvaise réponses\n",
      "\tApproche : 6/2\n",
      "\tGauche : 3/2\n",
      "\tDroite : 6/2\n",
      "\tEloignement : 4/1\n",
      "Nombre total de réponses 26\n",
      "Nombre total de bonnes réponses 19\n",
      "Nombre total de mauvaises réponses 7\n",
      "Taux de reponses correctes 73.08%\n",
      "Taux de réussite en fonction du déplacement\n",
      "Approche : 75.0%\n",
      "Gauche : 60.0%\n",
      "Droite : 75.0%\n",
      "Eloignement : 80.0%\n",
      "Le déplacement Gauche induit le plus d'erreur a un taux de réussite de 60.0%\n"
     ]
    }
   ],
   "source": [
    "def resultats(bonnesReponses,mauvaisesReponses):\n",
    "    print(\"\\nRésultats\")\n",
    "    print(\"Mouvement : bonne/mauvaise réponses\")\n",
    "    bon = 0\n",
    "    mauv = 0\n",
    "    tot = 0\n",
    "    tauxErreurDeplacement=[]\n",
    "    for i in range(0,9):\n",
    "\n",
    "        b= bonnesReponses[i]\n",
    "        m= mauvaisesReponses[i]\n",
    "        bon+= b\n",
    "        mauv+= m\n",
    "        if(m+b > 0):\n",
    "            tauxErreurDeplacement.append(round(b/(m+b)*100,2))\n",
    "        else:\n",
    "            tauxErreurDeplacement.append(0)\n",
    "        if(bonnesReponses[i]+mauvaisesReponses[i]!=0):\n",
    "            print(\"\\t\"+deplacements[i]+\" : \"+str(bonnesReponses[i])+\"/\"+str(mauvaisesReponses[i]))\n",
    "    tot = bon+mauv\n",
    "    print(\"Nombre total de réponses \"+str(tot))\n",
    "    print(\"Nombre total de bonnes réponses \"+str(bon))\n",
    "    print(\"Nombre total de mauvaises réponses \"+str(mauv))\n",
    "    print(\"Taux de reponses correctes \" +str(round(bon/tot*100,2))+\"%\")\n",
    "    ted = []\n",
    "    for i in tauxErreurDeplacement: \n",
    "        if(i != 0):\n",
    "            ted.append(i)\n",
    "        else:\n",
    "            ted.append(100)\n",
    "    erDepl = tauxErreurDeplacement.index(min(ted))\n",
    "\n",
    "    print(\"Taux de réussite en fonction du déplacement\")\n",
    "    for i in range(len(tauxErreurDeplacement)):\n",
    "        if(not diagonales and i%2 == 1):\n",
    "            print(str(deplacements[i])+\" : \"+str(tauxErreurDeplacement[i])+\"%\")\n",
    "        elif(diagonales):\n",
    "            print(str(deplacements[i])+\" : \"+str(tauxErreurDeplacement[i])+\"%\")\n",
    "    print(\"Le déplacement \"+deplacements[erDepl]+\" induit le plus d'erreur a un taux de réussite de \"+str(tauxErreurDeplacement[erDepl])+\"%\")\n",
    "\n",
    "resultats(bonnesReponses,mauvaisesReponses)"
   ]
  },
  {
   "cell_type": "code",
   "execution_count": 12,
   "metadata": {},
   "outputs": [
    {
     "name": "stdout",
     "output_type": "stream",
     "text": [
      "\n",
      "Corrélation des résultats entre distances et deplacements\n",
      "Distance 0\n",
      "\tGauche 0.0\n",
      "\tDroite 100.0\n",
      "\tEloignement 50.0\n",
      "Distance 1\n",
      "\tApproche 50.0\n",
      "\tGauche 100.0\n",
      "\tDroite 0.0\n",
      "\tEloignement 100.0\n",
      "Distance 2\n",
      "\tApproche 100.0\n",
      "\tGauche 0.0\n",
      "\tDroite 100.0\n",
      "\tEloignement 100.0\n",
      "Distance 3\n",
      "\tApproche 100.0\n",
      "\tGauche 100.0\n",
      "\tDroite 100.0\n",
      "\tEloignement 100.0\n",
      "Distance 4\n",
      "\tApproche 0.0\n",
      "\tDroite 50.0\n"
     ]
    }
   ],
   "source": [
    "def etudeCorrelationDistanceDeplacement(deplacementsDistance):\n",
    "    print(\"\\nCorrélation des résultats entre distances et deplacements\")\n",
    "\n",
    "    for d in range(len(deplacementsDistance)-1):\n",
    "        print(\"Distance \"+str(d))\n",
    "        for depl in range(len(deplacementsDistance[d])):\n",
    "            if((deplacementsDistance[d][depl][0]+deplacementsDistance[d][depl][1]) != 0):\n",
    "                print(\"\\t\"+deplacements[depl]+\" \"+str(round((deplacementsDistance[d][depl][0]/(deplacementsDistance[d][depl][0]+deplacementsDistance[d][depl][1]))*100,2)))\n",
    "etudeCorrelationDistanceDeplacement(deplacementsDistance)"
   ]
  },
  {
   "cell_type": "code",
   "execution_count": 13,
   "metadata": {},
   "outputs": [
    {
     "data": {
      "text/plain": [
       "[8158, 7124, 5224, 12533]"
      ]
     },
     "execution_count": 13,
     "metadata": {},
     "output_type": "execute_result"
    }
   ],
   "source": [
    "def analyseLienDistanceTempsReact(rep):\n",
    "    dep=['Approche','Gauche','Droite','Eloignement']\n",
    "    rt = dict()\n",
    "    for i in range(1,5):\n",
    "        rt[i] = []\n",
    "        for a in reponses[i].keys():\n",
    "            for d in dep:\n",
    "                if(d in rep[i][a].keys()):\n",
    "                    if(rep[i][a][d]['ReactionTime'] != -1):\n",
    "                        rt[i].append(rep[i][a][d]['ReactionTime'])\n",
    "    for i in range(1,5):\n",
    "        rt[i]=round(sum(rt[i])/len(rt[i]))\n",
    "    return rt\n",
    "d = analyseLienDistanceTempsReact(reponses)\n",
    "d = [d[1],d[2],d[3],d[4]]\n",
    "d"
   ]
  },
  {
   "cell_type": "code",
   "execution_count": 14,
   "metadata": {},
   "outputs": [
    {
     "data": {
      "text/plain": [
       "[2816, 3401, 3243, 1747]"
      ]
     },
     "execution_count": 14,
     "metadata": {},
     "output_type": "execute_result"
    }
   ],
   "source": [
    "def analyseLienDistanceTempsReactCert(rep):\n",
    "    dep=['Approche','Gauche','Droite','Eloignement']\n",
    "    rt = dict()\n",
    "    for i in range(1,5):\n",
    "        rt[i] = []\n",
    "        for a in reponses[i].keys():\n",
    "            for d in dep:\n",
    "                if(d in rep[i][a].keys()):\n",
    "                    if(rep[i][a][d]['ReactionTimeCertainty'] != -1):\n",
    "                        rt[i].append(rep[i][a][d]['ReactionTimeCertainty'])\n",
    "    for i in range(1,5):\n",
    "        rt[i]=round(sum(rt[i])/len(rt[i]))\n",
    "    return rt\n",
    "d = analyseLienDistanceTempsReactCert(reponses)\n",
    "d = [d[1],d[2],d[3],d[4]]\n",
    "d"
   ]
  },
  {
   "cell_type": "code",
   "execution_count": 15,
   "metadata": {},
   "outputs": [
    {
     "data": {
      "text/plain": [
       "[5, 4, 4, 2]"
      ]
     },
     "execution_count": 15,
     "metadata": {},
     "output_type": "execute_result"
    }
   ],
   "source": [
    "def analyseLienDistanceConfiance(rep):\n",
    "    dep=['Approche','Gauche','Droite','Eloignement']\n",
    "    rt = dict()\n",
    "    for i in range(1,5):\n",
    "        rt[i] = []\n",
    "        for a in reponses[i].keys():\n",
    "            for d in dep:\n",
    "                if(d in rep[i][a].keys()):\n",
    "                    if(rep[i][a][d]['Confiance'] != -1):\n",
    "                        rt[i].append(rep[i][a][d]['Confiance'])\n",
    "    for i in range(1,5):\n",
    "        if(len(rt[i]) != 0):\n",
    "            rt[i]=round(sum(rt[i])/len(rt[i]))\n",
    "    return rt\n",
    "d = analyseLienDistanceConfiance(reponses)\n",
    "d = [d[1],d[2],d[3],d[4]]\n",
    "d"
   ]
  },
  {
   "cell_type": "code",
   "execution_count": 16,
   "metadata": {},
   "outputs": [
    {
     "name": "stdout",
     "output_type": "stream",
     "text": [
      "\n",
      "Confiance/Temps de réaction moyen/Nombre de resultats\n",
      "[(1, 11068, 3), (2, 12095, 3), (3, 12603, 1), (5, 3863, 8), (6, 3530, 2)]\n"
     ]
    }
   ],
   "source": [
    "def analyseLienConfianceTempsReact(rep,verbose = False):\n",
    "    dep=['Approche','Gauche','Droite','Eloignement']\n",
    "    rt = dict()\n",
    "    for i in range(1,5):\n",
    "        rt[i] = []\n",
    "        for a in reponses[i].keys():\n",
    "            for d in dep:\n",
    "                if(d in rep[i][a].keys()):\n",
    "                    if(rep[i][a][d]['Confiance'] != -1):\n",
    "                        if(rep[i][a][d]['Confiance'] not in rt.keys()):\n",
    "                            rt[rep[i][a][d]['Confiance']]=[]\n",
    "                        rt[rep[i][a][d]['Confiance']].append(rep[i][a][d]['ReactionTime'])\n",
    "    r = []\n",
    "    if(verbose):\n",
    "        print(rt)\n",
    "    for i in range(0,10):\n",
    "        if(i in rt.keys()):\n",
    "            if(len(rt[i]) != 0):\n",
    "                r.append((i,round(sum(rt[i])/len(rt[i])),len(rt[i])))\n",
    "    return r\n",
    "d = analyseLienConfianceTempsReact(reponses)\n",
    "print(\"\\nConfiance/Temps de réaction moyen/Nombre de resultats\")\n",
    "print(d)"
   ]
  },
  {
   "cell_type": "code",
   "execution_count": 17,
   "metadata": {},
   "outputs": [
    {
     "data": {
      "text/plain": [
       "[('Approche', 5673, 8),\n",
       " ('Gauche', 11009, 4),\n",
       " ('Droite', 7188, 7),\n",
       " ('Eloignement', 8075, 3)]"
      ]
     },
     "execution_count": 17,
     "metadata": {},
     "output_type": "execute_result"
    }
   ],
   "source": [
    "def analyseLienDeplacementTempsReponse(rep,verbose = False):\n",
    "    dep=['Approche','Gauche','Droite','Eloignement']\n",
    "    rt = dict()\n",
    "    for i in range(1,5):\n",
    "        for a in rep[i].keys():\n",
    "            for d in dep:\n",
    "                if(d not in rt.keys()):\n",
    "                    rt[d] = []\n",
    "                if(d in rep[i][a].keys()):\n",
    "                    if(rep[i][a][d]['ReactionTime'] != -1):\n",
    "                        rt[d].append(rep[i][a][d]['ReactionTime'])\n",
    "    r = []\n",
    "    if(verbose):\n",
    "        print(rt)\n",
    "    for i in dep:\n",
    "        if(i in rt.keys()):\n",
    "            if(len(rt[i]) != 0):\n",
    "                r.append((i,round(sum(rt[i])/len(rt[i])),len(rt[i])))\n",
    "    return r\n",
    "analyseLienDeplacementTempsReponse(reponses)"
   ]
  },
  {
   "cell_type": "code",
   "execution_count": 18,
   "metadata": {
    "scrolled": true
   },
   "outputs": [
    {
     "data": {
      "text/plain": [
       "[(0, 0.636),\n",
       " (1, 0.727),\n",
       " (2, 0.818),\n",
       " (3, 0.818),\n",
       " (4, 0.818),\n",
       " (5, 0.909),\n",
       " (6, 1.0),\n",
       " (7, 1.0),\n",
       " (8, 1.0),\n",
       " (9, 0.909)]"
      ]
     },
     "execution_count": 18,
     "metadata": {},
     "output_type": "execute_result"
    }
   ],
   "source": [
    "def analyseApprentissage(rep,logs=False,dist=dists):\n",
    "    r = [0]*150\n",
    "    \n",
    "    dep=['Approche','Gauche','Droite','Eloignement']\n",
    "    for i in range(len(dist)-1):\n",
    "        for a in rep[i].keys():\n",
    "            for d in dep:\n",
    "                if(d in rep[i][a]):\n",
    "                    if(len(r)<rep[i][a][d]['Numero']):\n",
    "                        while(len(r)<rep[i][a][d]['Numero']):\n",
    "                            r.append(0)\n",
    "                    if(rep[i][a][d]['Reponse'] == d):\n",
    "                        r[rep[i][a][d]['Numero']]=1\n",
    "                    else:\n",
    "                        r[rep[i][a][d]['Numero']]=0\n",
    "    step = 10\n",
    "    res = []\n",
    "    for i in range(0,int(90/step)+1):\n",
    "        res.append([])\n",
    "        for j in range(0,step+1):\n",
    "            res[i].append(round(r[i+j],3))\n",
    "    for i in range(0,len(res)):\n",
    "        if(len(res[i])!=0):\n",
    "            res[i] = (i,round(sum(res[i])/len(res[i]),3))\n",
    "    return res\n",
    "analyseApprentissage(reponses,logs=True)"
   ]
  },
  {
   "cell_type": "code",
   "execution_count": 19,
   "metadata": {
    "scrolled": true
   },
   "outputs": [
    {
     "name": "stdout",
     "output_type": "stream",
     "text": [
      "dict_keys([2, 3, 4, 0, 1])\n",
      "dict_keys([150, 30, 180, 120])\n"
     ]
    },
    {
     "ename": "KeyError",
     "evalue": "0",
     "output_type": "error",
     "traceback": [
      "\u001b[1;31m---------------------------------------------------------------------------\u001b[0m",
      "\u001b[1;31mKeyError\u001b[0m                                  Traceback (most recent call last)",
      "\u001b[1;32m<ipython-input-19-4c4fa2b1feaf>\u001b[0m in \u001b[0;36m<module>\u001b[1;34m\u001b[0m\n\u001b[0;32m      1\u001b[0m \u001b[0mprint\u001b[0m\u001b[1;33m(\u001b[0m\u001b[0mreponses\u001b[0m\u001b[1;33m.\u001b[0m\u001b[0mkeys\u001b[0m\u001b[1;33m(\u001b[0m\u001b[1;33m)\u001b[0m\u001b[1;33m)\u001b[0m\u001b[1;33m\u001b[0m\u001b[1;33m\u001b[0m\u001b[0m\n\u001b[0;32m      2\u001b[0m \u001b[0mprint\u001b[0m\u001b[1;33m(\u001b[0m\u001b[0mreponses\u001b[0m\u001b[1;33m[\u001b[0m\u001b[1;36m0\u001b[0m\u001b[1;33m]\u001b[0m\u001b[1;33m.\u001b[0m\u001b[0mkeys\u001b[0m\u001b[1;33m(\u001b[0m\u001b[1;33m)\u001b[0m\u001b[1;33m)\u001b[0m\u001b[1;33m\u001b[0m\u001b[1;33m\u001b[0m\u001b[0m\n\u001b[1;32m----> 3\u001b[1;33m \u001b[0mprint\u001b[0m\u001b[1;33m(\u001b[0m\u001b[0mreponses\u001b[0m\u001b[1;33m[\u001b[0m\u001b[1;36m0\u001b[0m\u001b[1;33m]\u001b[0m\u001b[1;33m[\u001b[0m\u001b[1;36m0\u001b[0m\u001b[1;33m]\u001b[0m\u001b[1;33m.\u001b[0m\u001b[0mkeys\u001b[0m\u001b[1;33m(\u001b[0m\u001b[1;33m)\u001b[0m\u001b[1;33m)\u001b[0m\u001b[1;33m\u001b[0m\u001b[1;33m\u001b[0m\u001b[0m\n\u001b[0m\u001b[0;32m      4\u001b[0m \u001b[0mprint\u001b[0m\u001b[1;33m(\u001b[0m\u001b[0mreponses\u001b[0m\u001b[1;33m[\u001b[0m\u001b[1;36m0\u001b[0m\u001b[1;33m]\u001b[0m\u001b[1;33m[\u001b[0m\u001b[1;36m0\u001b[0m\u001b[1;33m]\u001b[0m\u001b[1;33m[\u001b[0m\u001b[1;34m'Eloignement'\u001b[0m\u001b[1;33m]\u001b[0m\u001b[1;33m.\u001b[0m\u001b[0mkeys\u001b[0m\u001b[1;33m(\u001b[0m\u001b[1;33m)\u001b[0m\u001b[1;33m)\u001b[0m\u001b[1;33m\u001b[0m\u001b[1;33m\u001b[0m\u001b[0m\n\u001b[0;32m      5\u001b[0m \u001b[0mprint\u001b[0m\u001b[1;33m(\u001b[0m\u001b[0mreponses\u001b[0m\u001b[1;33m[\u001b[0m\u001b[1;36m0\u001b[0m\u001b[1;33m]\u001b[0m\u001b[1;33m[\u001b[0m\u001b[1;36m0\u001b[0m\u001b[1;33m]\u001b[0m\u001b[1;33m[\u001b[0m\u001b[1;34m'Eloignement'\u001b[0m\u001b[1;33m]\u001b[0m\u001b[1;33m[\u001b[0m\u001b[1;34m\"Distance\"\u001b[0m\u001b[1;33m]\u001b[0m\u001b[1;33m)\u001b[0m\u001b[1;33m\u001b[0m\u001b[1;33m\u001b[0m\u001b[0m\n",
      "\u001b[1;31mKeyError\u001b[0m: 0"
     ]
    }
   ],
   "source": [
    "print(reponses.keys())\n",
    "print(reponses[0].keys())\n",
    "print(reponses[0][0].keys())\n",
    "print(reponses[0][0]['Eloignement'].keys())\n",
    "print(reponses[0][0]['Eloignement'][\"Distance\"])\n",
    "print(reponses[0][0]['Eloignement'][\"Reponse\"])\n",
    "print(reponses[0][0]['Eloignement'][\"P2\"])"
   ]
  },
  {
   "cell_type": "code",
   "execution_count": 20,
   "metadata": {},
   "outputs": [
    {
     "name": "stdout",
     "output_type": "stream",
     "text": [
      "0:{'Gauche': {'Eloignement': 1}, 'Eloignement': {'Droite': 1}, 'Droite': {}}\n",
      "1:{'Gauche': {}, 'Droite': {'Eloignement': 1}, 'Eloignement': {}, 'Approche': {'Gauche': 1}}\n",
      "2:{'Gauche': {'Droite': 1}, 'Eloignement': {}, 'Droite': {}, 'Approche': {}}\n",
      "3:{'Droite': {}, 'Gauche': {}, 'Approche': {}, 'Eloignement': {}}\n",
      "4:{'Droite': {'Gauche': 1}, 'Approche': {'Gauche': 1}, 'Eloignement': {'Gauche': 1}}\n"
     ]
    }
   ],
   "source": [
    "def typeErreur(r):\n",
    "    er = dict()\n",
    "    for dist in r.keys():\n",
    "        er[dist]=dict()\n",
    "        for angle in r[dist].keys():\n",
    "            for mvm in r[dist][angle].keys():\n",
    "                if(mvm not in er.keys()):\n",
    "                    er[dist][mvm] = dict()\n",
    "                if(r[dist][angle][mvm]['Reponse'] != mvm):\n",
    "                    if(r[dist][angle][mvm]['Reponse'] not in er[dist][mvm].keys()):\n",
    "                        er[dist][mvm][r[dist][angle][mvm]['Reponse']] = 1\n",
    "                    else:\n",
    "                        er[dist][mvm][r[dist][angle][mvm]['Reponse']] += 1\n",
    "    return er\n",
    "e = typeErreur(reponses)\n",
    "for i in range(0,5):\n",
    "    print(str(i)+\":\"+str(e[i]))"
   ]
  },
  {
   "cell_type": "code",
   "execution_count": 21,
   "metadata": {},
   "outputs": [],
   "source": [
    "import matplotlib.pyplot as plt\n",
    "import numpy as np"
   ]
  },
  {
   "cell_type": "code",
   "execution_count": 22,
   "metadata": {},
   "outputs": [],
   "source": [
    "def convertPositionEnAngleDistance(x,y):\n",
    "    d = math.sqrt(x**2+y**2)#Calcul de distance ok a +- 1 \n",
    "    cosrada = x/d\n",
    "    sinrada = y/d\n",
    "    radax = math.acos(cosrada)\n",
    "    raday = math.asin(sinrada)\n",
    "    ax = math.degrees(radax)\n",
    "    ay = math.degrees(raday)\n",
    "    #print(round(ax),round(ay))\n",
    "    return round(ay),round(d)"
   ]
  },
  {
   "cell_type": "code",
   "execution_count": 23,
   "metadata": {},
   "outputs": [
    {
     "name": "stdout",
     "output_type": "stream",
     "text": [
      "Distance 0 \n",
      "Resultats \n",
      "\t Bon: 0\n",
      "\t Mauvais: 4\n",
      "Distance 1 \n",
      "Resultats \n",
      "\t Bon: 0\n",
      "\t Mauvais: 6\n",
      "Distance 2 \n",
      "Resultats \n",
      "\t Bon: 3\n",
      "\t Mauvais: 2\n",
      "Distance 3 \n",
      "Resultats \n",
      "\t Bon: 7\n",
      "\t Mauvais: 1\n",
      "Distance 4 \n",
      "Resultats \n",
      "\t Bon: 2\n",
      "\t Mauvais: 1\n"
     ]
    }
   ],
   "source": [
    "def dist(x1,y1,x2,y2):\n",
    "    return math.sqrt((x1-x2)**2+(y1-y2)**2)\n",
    "def dist(p1,p2):\n",
    "    \n",
    "    x1,y1 = p1\n",
    "    x2,y2 = p2\n",
    "    return math.sqrt((x1-x2)**2+(y1-y2)**2)\n",
    "\n",
    "def analysePosition(rep):\n",
    "    bon = 0\n",
    "    mov = 0\n",
    "    r = dict()\n",
    "    pos = []\n",
    "    for d in rep.keys():\n",
    "        r[d] = [0,0]\n",
    "        for a in rep[d].keys():\n",
    "            for m in rep[d][a].keys():\n",
    "                p = rep[d][a][m][\"Distance\"]\n",
    "                p1 = rep[d][a][m][\"P1\"]\n",
    "                p2 = rep[d][a][m][\"P2\"]\n",
    "                pS = rep[d][a][m][\"PSelec\"]\n",
    "                pos.append((p1,p2,pS))\n",
    "                if(p1 != -1 and p2 != -1):\n",
    "                    if(p > min(10,dist(p1,p2))):\n",
    "                        r[d][1]+=1\n",
    "                    else:\n",
    "                        r[d][0]+=1\n",
    "    return r,pos\n",
    "d,p=analysePosition(reponses)\n",
    "\n",
    "for i in range(0,5):\n",
    "    print(\"Distance \"+str(i)+\" \\nResultats \\n\\t Bon: \"+str(d[i][0])+\"\\n\\t Mauvais: \"+str(d[i][1]))"
   ]
  },
  {
   "cell_type": "code",
   "execution_count": 24,
   "metadata": {},
   "outputs": [
    {
     "name": "stdout",
     "output_type": "stream",
     "text": [
      "Mauvaise distance\n",
      "Pos1 : 7/12\n",
      "\tAngle determiné :60\n",
      "\tDistance determiné :14\n",
      "Pos2 : 12/7\n",
      "\tAngle determiné :30\n",
      "\tDistance determiné :14\n",
      "PosS : 27/8\n",
      "\tAngle determiné :17\n",
      "\tDistance determiné :28\n"
     ]
    },
    {
     "data": {
      "image/png": "[encoded data removed]",
      "text/plain": [
       "<Figure size 432x288 with 1 Axes>"
      ]
     },
     "metadata": {
      "needs_background": "light"
     },
     "output_type": "display_data"
    },
    {
     "name": "stdout",
     "output_type": "stream",
     "text": [
      "Bonne distance\n",
      "Pos1 : 7/12\n",
      "\tAngle determiné :60\n",
      "\tDistance determiné :14\n",
      "Pos2 : 12/21\n",
      "\tAngle determiné :60\n",
      "\tDistance determiné :24\n",
      "PosS : 3/26\n",
      "\tAngle determiné :83\n",
      "\tDistance determiné :26\n"
     ]
    },
    {
     "data": {
      "image/png": "[encoded data removed]",
      "text/plain": [
       "<Figure size 432x288 with 1 Axes>"
      ]
     },
     "metadata": {
      "needs_background": "light"
     },
     "output_type": "display_data"
    },
    {
     "name": "stdout",
     "output_type": "stream",
     "text": [
      "Mauvaise distance\n",
      "Pos1 : 7/12\n",
      "\tAngle determiné :60\n",
      "\tDistance determiné :14\n",
      "Pos2 : 0/14\n",
      "\tAngle determiné :90\n",
      "\tDistance determiné :14\n",
      "PosS : 3/21\n",
      "\tAngle determiné :82\n",
      "\tDistance determiné :21\n"
     ]
    },
    {
     "data": {
      "image/png": "[encoded data removed]",
      "text/plain": [
       "<Figure size 432x288 with 1 Axes>"
      ]
     },
     "metadata": {
      "needs_background": "light"
     },
     "output_type": "display_data"
    },
    {
     "name": "stdout",
     "output_type": "stream",
     "text": [
      "Bonne distance\n",
      "Mauvaise distance\n",
      "Pos1 : -7/12\n",
      "\tAngle determiné :60\n",
      "\tDistance determiné :14\n",
      "Pos2 : -12/7\n",
      "\tAngle determiné :30\n",
      "\tDistance determiné :14\n",
      "PosS : -32/4\n",
      "\tAngle determiné :7\n",
      "\tDistance determiné :32\n"
     ]
    },
    {
     "data": {
      "image/png": "[encoded data removed]",
      "text/plain": [
       "<Figure size 432x288 with 1 Axes>"
      ]
     },
     "metadata": {
      "needs_background": "light"
     },
     "output_type": "display_data"
    },
    {
     "name": "stdout",
     "output_type": "stream",
     "text": [
      "Bonne distance\n",
      "Bonne distance\n",
      "Bonne distance\n",
      "Pos1 : 0/24\n",
      "\tAngle determiné :90\n",
      "\tDistance determiné :24\n",
      "Pos2 : 0/14\n",
      "\tAngle determiné :90\n",
      "\tDistance determiné :14\n",
      "PosS : -9/14\n",
      "\tAngle determiné :57\n",
      "\tDistance determiné :17\n"
     ]
    },
    {
     "data": {
      "image/png": "[encoded data removed]",
      "text/plain": [
       "<Figure size 432x288 with 1 Axes>"
      ]
     },
     "metadata": {
      "needs_background": "light"
     },
     "output_type": "display_data"
    },
    {
     "name": "stdout",
     "output_type": "stream",
     "text": [
      "Bonne distance\n",
      "Mauvaise distance\n",
      "Pos1 : 12/21\n",
      "\tAngle determiné :60\n",
      "\tDistance determiné :24\n",
      "Pos2 : 0/24\n",
      "\tAngle determiné :90\n",
      "\tDistance determiné :24\n",
      "PosS : 13/31\n",
      "\tAngle determiné :67\n",
      "\tDistance determiné :34\n"
     ]
    },
    {
     "data": {
      "image/png": "[encoded data removed]",
      "text/plain": [
       "<Figure size 432x288 with 1 Axes>"
      ]
     },
     "metadata": {
      "needs_background": "light"
     },
     "output_type": "display_data"
    },
    {
     "name": "stdout",
     "output_type": "stream",
     "text": [
      "Bonne distance\n",
      "Bonne distance\n",
      "Mauvaise distance\n",
      "Pos1 : -12/21\n",
      "\tAngle determiné :60\n",
      "\tDistance determiné :24\n",
      "Pos2 : -7/12\n",
      "\tAngle determiné :60\n",
      "\tDistance determiné :14\n",
      "PosS : -27/4\n",
      "\tAngle determiné :8\n",
      "\tDistance determiné :27\n"
     ]
    },
    {
     "data": {
      "image/png": "[encoded data removed]",
      "text/plain": [
       "<Figure size 432x288 with 1 Axes>"
      ]
     },
     "metadata": {
      "needs_background": "light"
     },
     "output_type": "display_data"
    },
    {
     "name": "stdout",
     "output_type": "stream",
     "text": [
      "Mauvaise distance\n",
      "Pos1 : 41/0\n",
      "\tAngle determiné :0\n",
      "\tDistance determiné :41\n",
      "Pos2 : 36/21\n",
      "\tAngle determiné :30\n",
      "\tDistance determiné :42\n",
      "PosS : 26/22\n",
      "\tAngle determiné :40\n",
      "\tDistance determiné :34\n"
     ]
    },
    {
     "data": {
      "image/png": "[encoded data removed]",
      "text/plain": [
       "<Figure size 432x288 with 1 Axes>"
      ]
     },
     "metadata": {
      "needs_background": "light"
     },
     "output_type": "display_data"
    },
    {
     "name": "stdout",
     "output_type": "stream",
     "text": [
      "Mauvaise distance\n",
      "Pos1 : 20/36\n",
      "\tAngle determiné :61\n",
      "\tDistance determiné :41\n",
      "Pos2 : 0/41\n",
      "\tAngle determiné :90\n",
      "\tDistance determiné :41\n",
      "PosS : 9/34\n",
      "\tAngle determiné :75\n",
      "\tDistance determiné :35\n"
     ]
    },
    {
     "data": {
      "image/png": "[encoded data removed]",
      "text/plain": [
       "<Figure size 432x288 with 1 Axes>"
      ]
     },
     "metadata": {
      "needs_background": "light"
     },
     "output_type": "display_data"
    },
    {
     "name": "stdout",
     "output_type": "stream",
     "text": [
      "Bonne distance\n",
      "Mauvaise distance\n",
      "Pos1 : 4/3\n",
      "\tAngle determiné :37\n",
      "\tDistance determiné :5\n",
      "Pos2 : 5/0\n",
      "\tAngle determiné :0\n",
      "\tDistance determiné :5\n",
      "PosS : 6/8\n",
      "\tAngle determiné :53\n",
      "\tDistance determiné :10\n"
     ]
    },
    {
     "data": {
      "image/png": "[encoded data removed]",
      "text/plain": [
       "<Figure size 432x288 with 1 Axes>"
      ]
     },
     "metadata": {
      "needs_background": "light"
     },
     "output_type": "display_data"
    },
    {
     "name": "stdout",
     "output_type": "stream",
     "text": [
      "Mauvaise distance\n",
      "Pos1 : -4/3\n",
      "\tAngle determiné :37\n",
      "\tDistance determiné :5\n",
      "Pos2 : -7/4\n",
      "\tAngle determiné :30\n",
      "\tDistance determiné :8\n",
      "PosS : -24/14\n",
      "\tAngle determiné :30\n",
      "\tDistance determiné :28\n"
     ]
    },
    {
     "data": {
      "image/png": "[encoded data removed]",
      "text/plain": [
       "<Figure size 432x288 with 1 Axes>"
      ]
     },
     "metadata": {
      "needs_background": "light"
     },
     "output_type": "display_data"
    },
    {
     "name": "stdout",
     "output_type": "stream",
     "text": [
      "Mauvaise distance\n",
      "Pos1 : 5/0\n",
      "\tAngle determiné :0\n",
      "\tDistance determiné :5\n",
      "Pos2 : 4/3\n",
      "\tAngle determiné :37\n",
      "\tDistance determiné :5\n",
      "PosS : 16/11\n",
      "\tAngle determiné :35\n",
      "\tDistance determiné :19\n"
     ]
    },
    {
     "data": {
      "image/png": "[encoded data removed]",
      "text/plain": [
       "<Figure size 432x288 with 1 Axes>"
      ]
     },
     "metadata": {
      "needs_background": "light"
     },
     "output_type": "display_data"
    },
    {
     "name": "stdout",
     "output_type": "stream",
     "text": [
      "Mauvaise distance\n",
      "Pos1 : 2/4\n",
      "\tAngle determiné :63\n",
      "\tDistance determiné :4\n",
      "Pos2 : 4/7\n",
      "\tAngle determiné :60\n",
      "\tDistance determiné :8\n",
      "PosS : 8/21\n",
      "\tAngle determiné :69\n",
      "\tDistance determiné :22\n"
     ]
    },
    {
     "data": {
      "image/png": "[encoded data removed]",
      "text/plain": [
       "<Figure size 432x288 with 1 Axes>"
      ]
     },
     "metadata": {
      "needs_background": "light"
     },
     "output_type": "display_data"
    },
    {
     "name": "stdout",
     "output_type": "stream",
     "text": [
      "Mauvaise distance\n",
      "Pos1 : 0/8\n",
      "\tAngle determiné :90\n",
      "\tDistance determiné :8\n",
      "Pos2 : 4/7\n",
      "\tAngle determiné :60\n",
      "\tDistance determiné :8\n",
      "PosS : 8/14\n",
      "\tAngle determiné :60\n",
      "\tDistance determiné :16\n"
     ]
    },
    {
     "data": {
      "image/png": "[encoded data removed]",
      "text/plain": [
       "<Figure size 432x288 with 1 Axes>"
      ]
     },
     "metadata": {
      "needs_background": "light"
     },
     "output_type": "display_data"
    },
    {
     "name": "stdout",
     "output_type": "stream",
     "text": [
      "Mauvaise distance\n",
      "Pos1 : 0/8\n",
      "\tAngle determiné :90\n",
      "\tDistance determiné :8\n",
      "Pos2 : -4/7\n",
      "\tAngle determiné :60\n",
      "\tDistance determiné :8\n",
      "PosS : -16/14\n",
      "\tAngle determiné :41\n",
      "\tDistance determiné :21\n"
     ]
    },
    {
     "data": {
      "image/png": "[encoded data removed]",
      "text/plain": [
       "<Figure size 432x288 with 1 Axes>"
      ]
     },
     "metadata": {
      "needs_background": "light"
     },
     "output_type": "display_data"
    },
    {
     "name": "stdout",
     "output_type": "stream",
     "text": [
      "Mauvaise distance\n",
      "Pos1 : 4/7\n",
      "\tAngle determiné :60\n",
      "\tDistance determiné :8\n",
      "Pos2 : 7/12\n",
      "\tAngle determiné :60\n",
      "\tDistance determiné :14\n",
      "PosS : 8/18\n",
      "\tAngle determiné :66\n",
      "\tDistance determiné :20\n"
     ]
    },
    {
     "data": {
      "image/png": "[encoded data removed]",
      "text/plain": [
       "<Figure size 432x288 with 1 Axes>"
      ]
     },
     "metadata": {
      "needs_background": "light"
     },
     "output_type": "display_data"
    },
    {
     "name": "stdout",
     "output_type": "stream",
     "text": [
      "Mauvaise distance\n",
      "Pos1 : -4/7\n",
      "\tAngle determiné :60\n",
      "\tDistance determiné :8\n",
      "Pos2 : -2/4\n",
      "\tAngle determiné :63\n",
      "\tDistance determiné :4\n",
      "PosS : -11/6\n",
      "\tAngle determiné :29\n",
      "\tDistance determiné :13\n"
     ]
    },
    {
     "data": {
      "image/png": "[encoded data removed]",
      "text/plain": [
       "<Figure size 432x288 with 1 Axes>"
      ]
     },
     "metadata": {
      "needs_background": "light"
     },
     "output_type": "display_data"
    },
    {
     "name": "stdout",
     "output_type": "stream",
     "text": [
      "Mauvaise distance\n",
      "Pos1 : -8/0\n",
      "\tAngle determiné :0\n",
      "\tDistance determiné :8\n",
      "Pos2 : -7/4\n",
      "\tAngle determiné :30\n",
      "\tDistance determiné :8\n",
      "PosS : -27/6\n",
      "\tAngle determiné :13\n",
      "\tDistance determiné :28\n"
     ]
    },
    {
     "data": {
      "image/png": "[encoded data removed]",
      "text/plain": [
       "<Figure size 432x288 with 1 Axes>"
      ]
     },
     "metadata": {
      "needs_background": "light"
     },
     "output_type": "display_data"
    },
    {
     "name": "stdout",
     "output_type": "stream",
     "text": [
      "Mauvaise distance\n",
      "Pos1 : -7/4\n",
      "\tAngle determiné :30\n",
      "\tDistance determiné :8\n",
      "Pos2 : -4/3\n",
      "\tAngle determiné :37\n",
      "\tDistance determiné :5\n",
      "PosS : -14/16\n",
      "\tAngle determiné :49\n",
      "\tDistance determiné :21\n"
     ]
    },
    {
     "data": {
      "image/png": "[encoded data removed]",
      "text/plain": [
       "<Figure size 432x288 with 1 Axes>"
      ]
     },
     "metadata": {
      "needs_background": "light"
     },
     "output_type": "display_data"
    },
    {
     "name": "stdout",
     "output_type": "stream",
     "text": [
      "Nombre d'erreur sur la distance : 17\n",
      "Nombre d'erreur sur l'angle : 7\n",
      "Nombre d'essai : 26\n"
     ]
    }
   ],
   "source": [
    "verbose = False\n",
    "deltaAngle = 15\n",
    "deltaDistance = 2\n",
    "xi = []\n",
    "yi = []\n",
    "xj = []\n",
    "yj = []\n",
    "xk = []\n",
    "yk = []\n",
    "for i,j,k in p:\n",
    "    if(i != -1):\n",
    "        xi.append(i[0])\n",
    "        yi.append(i[1])\n",
    "        xj.append(j[0])\n",
    "        yj.append(j[1])\n",
    "        xk.append(k[0])\n",
    "        yk.append(k[1])\n",
    "cptErreurAngle = 0\n",
    "cptErreurDistance = 0\n",
    "cpt = 0\n",
    "for ind in range(0,len(xi)):\n",
    "    cpt+=1\n",
    "    pl = False\n",
    "    ai,di = convertPositionEnAngleDistance(xi[ind],yi[ind])\n",
    "    aj,dj = convertPositionEnAngleDistance(xj[ind],yj[ind])\n",
    "    ak,dk = convertPositionEnAngleDistance(xk[ind],yk[ind])\n",
    "    if((di-deltaDistance <= dk and dk <= dj+deltaDistance) or (di+deltaDistance >= dk and dk >=dj-deltaDistance)):\n",
    "        print(\"Bonne distance\")\n",
    "    else:\n",
    "        print(\"Mauvaise distance\")\n",
    "        cptErreurDistance+=1\n",
    "        pl = True\n",
    "    if((ai-deltaAngle <= ak and ak <= aj+deltaAngle) or (ai+deltaAngle >= ak and ak >= aj-deltaAngle)):\n",
    "        if(verbose):\n",
    "            print(\"Bonne Angle\")\n",
    "    else:\n",
    "        if(verbose):\n",
    "            print(\"Mauvais angle\")\n",
    "        cptErreurAngle+=1\n",
    "        pl=True\n",
    "    if(pl):\n",
    "        print(\"Pos1 : \"+str(xi[ind])+\"/\"+str(yi[ind])+\"\\n\\tAngle determiné :\"+str(ai)+\"\\n\\tDistance determiné :\"+str(di))\n",
    "        print(\"Pos2 : \"+str(xj[ind])+\"/\"+str(yj[ind])+\"\\n\\tAngle determiné :\"+str(aj)+\"\\n\\tDistance determiné :\"+str(dj))\n",
    "        print(\"PosS : \"+str(xk[ind])+\"/\"+str(yk[ind])+\"\\n\\tAngle determiné :\"+str(ak)+\"\\n\\tDistance determiné :\"+str(dk))\n",
    "        plt.xlim(-41,41)\n",
    "        plt.ylim(0,41)\n",
    "        plt.plot(xi[ind],yi[ind],\"x\")\n",
    "        plt.plot(xj[ind],yj[ind],\"x\")\n",
    "        plt.plot(xk[ind],yk[ind],\"o\")\n",
    "        plt.show()\n",
    "print(\"Nombre d'erreur sur la distance : \"+str(cptErreurDistance))\n",
    "print(\"Nombre d'erreur sur l'angle : \"+str(cptErreurAngle))\n",
    "print(\"Nombre d'essai : \"+str(cpt))"
   ]
  },
  {
   "cell_type": "code",
   "execution_count": null,
   "metadata": {
    "scrolled": true
   },
   "outputs": [],
   "source": [
    "print(reponses.keys())\n",
    "print(reponses[0].keys())\n",
    "print(reponses[0][0].keys())\n",
    "print(reponses[0][0]['Eloignement'].keys())\n",
    "print(reponses[0][0]['Eloignement'][\"Distance\"])\n",
    "print(reponses[0][0]['Eloignement'][\"Reponse\"])\n",
    "print(reponses[0][0]['Eloignement'][\"P2\"])"
   ]
  },
  {
   "cell_type": "code",
   "execution_count": null,
   "metadata": {},
   "outputs": [],
   "source": [
    "len([[0]*82]*41)"
   ]
  },
  {
   "cell_type": "code",
   "execution_count": null,
   "metadata": {},
   "outputs": [],
   "source": [
    "ar1 = [[0 for i in range(0,84)] for j in range(0,42)]\n",
    "ar2 = [[0 for i in range(0,84)] for j in range(0,42)]\n",
    "er = [[0 for i in range(0,84)] for j in range(0,42)]\n",
    "for dist in reponses.keys():\n",
    "    for angle in reponses[dist].keys():\n",
    "        for mvm in reponses[dist][angle].keys():\n",
    "            p1 = reponses[dist][angle][mvm][\"P1\"]\n",
    "            p2 = reponses[dist][angle][mvm][\"P2\"]\n",
    "            g = reponses[dist][angle][mvm][\"Reponse\"]==mvm\n",
    "            if(p1 != -1):\n",
    "                if (g):\n",
    "                    ar1[p1[1]][p1[0]+41]+=1/len(reponses[dist][angle].keys())\n",
    "                else:\n",
    "                    ar1[p1[1]][p1[0]+41]-=1/len(reponses[dist][angle].keys())\n",
    "                    er[p1[1]][p1[0]+41]+=1\n",
    "            if(p2 != -1):\n",
    "                if (g):\n",
    "                    ar2[p2[1]][p2[0]+41]+=1/len(reponses[dist][angle].keys())\n",
    "                else:\n",
    "                    ar2[p2[1]][p2[0]+41]-=1/len(reponses[dist][angle].keys())\n",
    "for i in range(0,len(ar1)):\n",
    "    for j in range(len(ar1[i])):\n",
    "        if(ar1[i][j]<0):\n",
    "            ar1[i][j]=0\n",
    "        if(ar2[i][j]<0):\n",
    "            ar2[i][j]=0\n",
    "        if(er[i][j]<0):\n",
    "            er[i][j]=0"
   ]
  },
  {
   "cell_type": "code",
   "execution_count": null,
   "metadata": {},
   "outputs": [],
   "source": [
    "import numpy as np; np.random.seed(0)\n",
    "\n",
    "import seaborn as sns;\n",
    "\n",
    "ax = sns.heatmap(ar1)\n",
    "ax.invert_yaxis()"
   ]
  },
  {
   "cell_type": "code",
   "execution_count": null,
   "metadata": {
    "scrolled": true
   },
   "outputs": [],
   "source": [
    "ax = sns.heatmap(ar2)\n",
    "ax.invert_yaxis()"
   ]
  },
  {
   "cell_type": "code",
   "execution_count": null,
   "metadata": {},
   "outputs": [],
   "source": [
    "ax = sns.heatmap(er)\n",
    "ax.invert_yaxis()"
   ]
  }
 ],
 "metadata": {
  "kernelspec": {
   "display_name": "Python 3",
   "language": "python",
   "name": "python3"
  },
  "language_info": {
   "codemirror_mode": {
    "name": "ipython",
    "version": 3
   },
   "file_extension": ".py",
   "mimetype": "text/x-python",
   "name": "python",
   "nbconvert_exporter": "python",
   "pygments_lexer": "ipython3",
   "version": "3.7.6"
  }
 },
 "nbformat": 4,
 "nbformat_minor": 4
}
